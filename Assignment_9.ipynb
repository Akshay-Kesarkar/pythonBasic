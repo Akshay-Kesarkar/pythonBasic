{
 "cells": [
  {
   "cell_type": "code",
   "execution_count": 1,
   "id": "8ef576a0",
   "metadata": {},
   "outputs": [],
   "source": [
    "# 1. To what does a relative path refer?\n",
    "\n",
    "# Ans\n",
    "# A relative file path is interpreted from the perspective your current working directory"
   ]
  },
  {
   "cell_type": "code",
   "execution_count": 2,
   "id": "8efe1152",
   "metadata": {},
   "outputs": [],
   "source": [
    "# 2. What does an absolute path start with your operating system?\n",
    "\n",
    "# Ans\n",
    "# An absolute path refers to the complete details needed to locate a file or folder, \n",
    "# starting from the root element and ending with the other subdirectories. \n",
    "# Absolute paths are used in websites and operating systems for locating files and folders"
   ]
  },
  {
   "cell_type": "code",
   "execution_count": 4,
   "id": "72117845",
   "metadata": {},
   "outputs": [
    {
     "data": {
      "text/plain": [
       "'C:\\\\Users\\\\HP'"
      ]
     },
     "execution_count": 4,
     "metadata": {},
     "output_type": "execute_result"
    }
   ],
   "source": [
    "# 3. What do the functions os.getcwd() and os.chdir() do?\n",
    "\n",
    "# Ans\n",
    "# getcwd() : CWD stands for Current Working Directory.This function allows you to see what your current working directory\n",
    "import os\n",
    "os.getcwd()"
   ]
  },
  {
   "cell_type": "code",
   "execution_count": 5,
   "id": "244eefd9",
   "metadata": {},
   "outputs": [],
   "source": [
    "#  os.chdir()\n",
    "# chdir() method in Python used to change the current working directory to specified path. \n",
    "# It takes only a single argument as new directory path"
   ]
  },
  {
   "cell_type": "code",
   "execution_count": 6,
   "id": "becce210",
   "metadata": {},
   "outputs": [],
   "source": [
    "# 4. What are the . and .. folders?\n",
    "\n",
    "# Ans\n",
    "# . means \"current directory\" and .. means \"parent directory\"."
   ]
  },
  {
   "cell_type": "code",
   "execution_count": 7,
   "id": "131cc5ed",
   "metadata": {},
   "outputs": [],
   "source": [
    "# 5. In C:\\bacon\\eggs\\spam.txt, which part is the dir name, and which part is the base name?\n",
    "\n",
    "# Ans\n",
    "# Dir name is C:\\bacon\\eggs\\. Goes in c drive in bacon folder, in eggs folder\n",
    "# base name is spam.txt. It is file name or txt  file with name spam"
   ]
  },
  {
   "cell_type": "code",
   "execution_count": 8,
   "id": "ff7850a5",
   "metadata": {},
   "outputs": [],
   "source": [
    "# 6. What are the three “mode” arguments that can be passed to the open() function?\n",
    "\n",
    "# Ans\n",
    "\n",
    "#r - open a file in read mode. \n",
    "#w - opens or create a text file in write mode. \n",
    "#a - opens a file in append mode"
   ]
  },
  {
   "cell_type": "code",
   "execution_count": 9,
   "id": "c184d9fa",
   "metadata": {},
   "outputs": [],
   "source": [
    "# 7. What happens if an existing file is opened in write mode?\n",
    "\n",
    "#Ans\n",
    "\n",
    "#To open a file in write mode, “w” is specified. When mode “w” is specified, \n",
    "#it creates an empty file for output operations. What if the file already exists\n",
    "#If a file with the same name already exists, \n",
    "#its contents are discarded and the file is treated as a new empty file."
   ]
  },
  {
   "cell_type": "code",
   "execution_count": 11,
   "id": "0320650d",
   "metadata": {},
   "outputs": [],
   "source": [
    "# 8. How do you tell the difference between read() and readlines()?\n",
    "\n",
    "# Ans\n",
    "# read() - Reads at most n characters from the file. Reads till end\n",
    "\n",
    "# readline() - Reads and returns one line from the file"
   ]
  },
  {
   "cell_type": "code",
   "execution_count": 12,
   "id": "7fc322bf",
   "metadata": {},
   "outputs": [],
   "source": [
    "# 9. What data structure does a shelf value resemble?\n",
    "\n",
    "#Ans\n",
    "# A shelf value resembles a dictionary value; it has keys and values, \n",
    "# along with keys() and values() methods that work similarly to the dictionary methods of the same names."
   ]
  },
  {
   "cell_type": "code",
   "execution_count": null,
   "id": "45f40439",
   "metadata": {},
   "outputs": [],
   "source": []
  }
 ],
 "metadata": {
  "kernelspec": {
   "display_name": "Python 3 (ipykernel)",
   "language": "python",
   "name": "python3"
  },
  "language_info": {
   "codemirror_mode": {
    "name": "ipython",
    "version": 3
   },
   "file_extension": ".py",
   "mimetype": "text/x-python",
   "name": "python",
   "nbconvert_exporter": "python",
   "pygments_lexer": "ipython3",
   "version": "3.9.12"
  }
 },
 "nbformat": 4,
 "nbformat_minor": 5
}
