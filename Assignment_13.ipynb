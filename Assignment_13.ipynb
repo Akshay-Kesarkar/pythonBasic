{
 "cells": [
  {
   "cell_type": "code",
   "execution_count": 1,
   "id": "1f2921d4",
   "metadata": {},
   "outputs": [],
   "source": [
    "# 1. What advantages do Excel spreadsheets have over CSV spreadsheets?\n",
    "\n",
    "# Ans\n",
    "# Excel spreadsheet have many of the features over CSV. For example, Excel files:\n",
    "\n",
    "# Do have types for their values—everything is a string\n",
    "# Do have settings for font size or color\n",
    "# Do have multiple worksheets\n",
    "# Can specify cell widths and heights\n",
    "# Can have merged cells\n",
    "# Can have images or charts embedded in them\n"
   ]
  },
  {
   "cell_type": "code",
   "execution_count": 2,
   "id": "24af7769",
   "metadata": {},
   "outputs": [],
   "source": [
    "#2.What do you pass to csv.reader() and csv.writer() to create reader and writer objects?\n",
    "\n",
    "#Ans\n",
    "\n",
    "# To write a CSV file with the csv module, First, call open() \n",
    "# and pass it 'w' to open a file in write mode, and it create a object .That object pass in csv.writer()\n",
    "\n",
    "# write_file = open('filename.csv','w')\n",
    "# Writer = csv.writer(write_file)\n",
    "\n",
    "# To read a CSV file with the csv module, first open it using the open() function and it create a object .\n",
    "# That object pass in csv.reader()\n",
    "\n",
    "# read_file = open('filename.csv')\n",
    "# Reader = csv.reader(read_file)"
   ]
  },
  {
   "cell_type": "code",
   "execution_count": 3,
   "id": "8f7d82b5",
   "metadata": {},
   "outputs": [],
   "source": [
    "#3.What modes do File objects for reader and writer objects need to be opened in?\n",
    "\n",
    "# Ans\n",
    "\n",
    "# File objects need to be opened in read-binary ('rb') for Reader objects and write-binary ('wb') for Writer objects."
   ]
  },
  {
   "cell_type": "code",
   "execution_count": 4,
   "id": "d6c3a832",
   "metadata": {},
   "outputs": [],
   "source": [
    "# 4. What method takes a list argument and writes it to a CSV file?\n",
    "\n",
    "# Ans\n",
    "# The writerow() method\n",
    "\n",
    "# write_file = open('filename.csv','w')\n",
    "# Writer = csv.writer(write_file)\n",
    "# Writer.writerow(['Akshay','Kesarkar','hello'])"
   ]
  },
  {
   "cell_type": "code",
   "execution_count": 5,
   "id": "38fca2e4",
   "metadata": {},
   "outputs": [],
   "source": [
    "# 5. What do the keyword arguments delimiter and line terminator do?\n",
    "\n",
    "# Ans\n",
    "\n",
    "# The delimiter argument changes the string used to separate cells in a row.\n",
    "\n",
    "# The lineterminator argument changes the string used to separate rows."
   ]
  },
  {
   "cell_type": "code",
   "execution_count": 6,
   "id": "8b38f4ae",
   "metadata": {},
   "outputs": [],
   "source": [
    "# 6. What function takes a string of JSON data and returns a Python data structure?\n",
    "\n",
    "# Ans\n",
    "# json.loads()"
   ]
  },
  {
   "cell_type": "code",
   "execution_count": 7,
   "id": "caa93d96",
   "metadata": {},
   "outputs": [],
   "source": [
    "# 7. What function takes a Python data structure and returns a string of JSON data?\n",
    "\n",
    "#Ans\n",
    "\n",
    "# json.dumps()"
   ]
  },
  {
   "cell_type": "code",
   "execution_count": null,
   "id": "38bd369a",
   "metadata": {},
   "outputs": [],
   "source": []
  }
 ],
 "metadata": {
  "kernelspec": {
   "display_name": "Python 3 (ipykernel)",
   "language": "python",
   "name": "python3"
  },
  "language_info": {
   "codemirror_mode": {
    "name": "ipython",
    "version": 3
   },
   "file_extension": ".py",
   "mimetype": "text/x-python",
   "name": "python",
   "nbconvert_exporter": "python",
   "pygments_lexer": "ipython3",
   "version": "3.9.12"
  }
 },
 "nbformat": 4,
 "nbformat_minor": 5
}
