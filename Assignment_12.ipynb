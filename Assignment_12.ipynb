{
 "cells": [
  {
   "cell_type": "code",
   "execution_count": 1,
   "id": "78048452",
   "metadata": {},
   "outputs": [],
   "source": [
    "# 1. In what modes should the PdfFileReader() and PdfFileWriter() File objects will be opened?\n",
    "\n",
    "# Ans\n",
    "# PdfFileReader() file objects should be opened in rb\n",
    "# PdfFileWriter() file objects should be opened in wb"
   ]
  },
  {
   "cell_type": "code",
   "execution_count": 5,
   "id": "25ad2e54",
   "metadata": {},
   "outputs": [
    {
     "name": "stdout",
     "output_type": "stream",
     "text": [
      " \n",
      "Spherical roller bearings for wind energy \n",
      "applications\n",
      "Spherical roller bearings for wind energy applications are designed \n",
      "explicitly for wind turbine main shafts. They  have an optimized \n",
      "in tern al geometry with large diameter rollers and increased contact \n",
      "angle for increased axial  load carrying capacity.  Upgraded INSOCOAT bearings\n",
      "INSOCOAT bearings feature electrical insulation on either the inner \n",
      "or outer ring. The upgraded coating provides  higher Ohmic resist -\n",
      "ance, including high Ohmic resistance even in a humid environment, \n",
      "and higher breakdown  voltage.Angular contact ball bearings with 25° contact angle\n",
      "These new bearings have a raceway geometry optimized for high \n",
      "speeds and reduced sensitivity to axial loading  and misalignment. \n",
      "They can increase robustness when used as the backup bearing in \n",
      "sets that are predominantly  loaded in one direction.  4. Important product updates\n",
      "Tapered roller bearings\n",
      "Tapered roller bearings with an outside diameter up to 600 mm have \n",
      "been redesigned. These new bearings have  an increased dynamic \n",
      "load rating, and most of the range is available as SKF Explorer bear -\n",
      "ings. A consolidated  catalogue assortment and a simpliied designa -\n",
      "tion system provide a clear view of what is available.  \n",
      "9\n"
     ]
    }
   ],
   "source": [
    "# 2. From a PdfFileReader object, how do you get a Page object for page 5?\n",
    "from PyPDF2 import PdfReader\n",
    "\n",
    "reader = PdfReader(r\"C:\\Users\\HP\\Downloads\\bearing.pdf\") # -file path (pdf is also avilabe in pdftable git)\n",
    "page = reader.pages[10] # - used page no 10 as per pdf data\n",
    "print(page.extract_text())"
   ]
  },
  {
   "cell_type": "code",
   "execution_count": 6,
   "id": "8c43f33f",
   "metadata": {},
   "outputs": [
    {
     "name": "stdout",
     "output_type": "stream",
     "text": [
      "1152\n"
     ]
    }
   ],
   "source": [
    "# 3. What PdfFileReader variable stores the number of pages in the PDF document?\n",
    "\n",
    "# Ans\n",
    "# getNumPages() method of PdfFileReader class stores the no pages in a PDF document\n",
    "from PyPDF2 import PdfFileReader\n",
    "pdf_reader = PdfFileReader(r\"C:\\Users\\HP\\Downloads\\bearing.pdf\")\n",
    "print(pdf_reader.getNumPages()) # Prints the no of pages in a input document"
   ]
  },
  {
   "cell_type": "code",
   "execution_count": 8,
   "id": "094191a3",
   "metadata": {},
   "outputs": [],
   "source": [
    "# 4. If a PdfFileReader object’s PDF is encrypted with the password swordfish, what must you do before you can obtain Page objects from it?\n",
    "\n",
    "#Ans\n",
    "#If a PdfFileReader object’s PDF is encrypted with the password swordfish and you're not aware of it. \n",
    "# first read the Pdf using the PdfFileReader Class. PdfFileReader class provides a attribute called isEncrypted \n",
    "#to check whether a pdf is encrypted or not. the method returns true if a pdf is encrypted and vice versa.\n",
    "# if pdf is encrypted use the decrypt() method provided by PdfFileReader class first then \n",
    "# try to read the contents/pages of the pdf, else PyPDF2 will raise the following error \n",
    "# PyPDF2.utils.PdfReadError: file has not been decrypted"
   ]
  },
  {
   "cell_type": "code",
   "execution_count": 15,
   "id": "6bc1721f",
   "metadata": {},
   "outputs": [],
   "source": [
    "#Example Code:\n",
    "#from PyPDF2 import PdfFileReader\n",
    "#pdf_reader = PdfFileReader(file_path)\n",
    "#if pdf_reader.isEncrypted: # to check whether the pdf is encrypted or not\n",
    "#    pdf_reader.decrypt(\"swordfish\")\n",
    "#for page in pdf_reader.pages:\n",
    "#    print(page.extractText()) # to print the text data of a page from pdf"
   ]
  },
  {
   "cell_type": "code",
   "execution_count": 16,
   "id": "c54b1e23",
   "metadata": {},
   "outputs": [],
   "source": [
    "# 5. What methods do you use to rotate a page?\n",
    "\n",
    "# Ans\n",
    "# PyPDF2 Package provides 2 methods to rotate a page:\n",
    "\n",
    "# rotateClockWise() -> For Clockwise rotation\n",
    "# rotateCounterClockWise() -> For Counter Clockwise rotation"
   ]
  },
  {
   "cell_type": "code",
   "execution_count": 18,
   "id": "df06a289",
   "metadata": {},
   "outputs": [],
   "source": [
    "# 6. What is the difference between a Run object and a Paragraph object?\n",
    "\n",
    "# Ans\n",
    "\n",
    "# The structure of a document is represented by three different data types in python-Docx.\n",
    "# At the highest level, a Document object represents the entire document. \n",
    "# The Document object contains a list of Paragraph objects for the paragraphs in the document. \n",
    "# (A new paragraph begins whenever the user presses ENTER or RETURN while typing in a Word document.) \n",
    "# Each of these Paragraph objects contains a list of one or more Run objects.\n",
    "\n",
    "# The text in a Word document is more than just a string.\n",
    "# It has font, size, color, and other styling information associated with it.\n",
    "# A style in Word is a collection of these attributes. \n",
    "# A Run object is a contiguous run of text with the same style. A new Run object is needed whenever the text style changes."
   ]
  },
  {
   "cell_type": "code",
   "execution_count": 14,
   "id": "741176f1",
   "metadata": {},
   "outputs": [],
   "source": [
    "# 7. How do you obtain a list of Paragraph objects for a Document object that’s stored in a variable named doc?\n",
    "\n",
    "# Example Program\n",
    "#from docx import Document\n",
    "#doc = Document(\"sample_file.docx\") # Path of the Docx file\n",
    "#print(doc.paragraphs) # Prints the list of Paragraph objects for a Document\n",
    "#for paragraph in doc.paragraphs:\n",
    "#    print(paragraph.text) # Prints the text in the paragraph"
   ]
  },
  {
   "cell_type": "code",
   "execution_count": 13,
   "id": "e285cf89",
   "metadata": {},
   "outputs": [],
   "source": [
    "# 8. What type of object has bold, underline, italic, strike, and outline variables?\n",
    "#Ans\n",
    "#Run object has bold, underline, italic, strike, and outline variables. \n",
    "#The text in a Word document is more than just a string. It has font, size, color, \n",
    "#and other styling information associated with it.\n",
    "\n",
    "#A style in Word is a collection of these attributes. \n",
    "#A Run object is a contiguous run of text with the same style. A new Run object is needed whenever the text style changes."
   ]
  },
  {
   "cell_type": "code",
   "execution_count": null,
   "id": "1ec6ea30",
   "metadata": {},
   "outputs": [],
   "source": [
    "# 9. What is the difference between False, True, and None for the bold variable?\n",
    "# bold = True  # Style Set to Bold\n",
    "# bold = False # Style Not Set to Bold\n",
    "# bold = None # Style is Not Applicable"
   ]
  },
  {
   "cell_type": "code",
   "execution_count": 19,
   "id": "8b00c215",
   "metadata": {},
   "outputs": [],
   "source": [
    "# 10. How do you create a Document object for a new Word document?\n",
    "\n",
    "# Example Program\n",
    "# from docx import Document\n",
    "# document = Document()\n",
    "# document.add_paragraph(\"iNeuron Full Stack DataScience Course\")\n",
    "# document.save('mydocument.docx')\n",
    "\n",
    "\n"
   ]
  },
  {
   "cell_type": "code",
   "execution_count": 11,
   "id": "9de001e5",
   "metadata": {},
   "outputs": [],
   "source": [
    "# 11. How do you add a paragraph with the text 'Hello, there!' to a Document object stored in a variable named doc?\n",
    "\n",
    "# Example Program\n",
    "#from docx import Document\n",
    "#doc = Document()\n",
    "#doc.add_paragraph('Hello, there!')\n",
    "#doc.save('hello.docx')"
   ]
  },
  {
   "cell_type": "code",
   "execution_count": 9,
   "id": "804b959e",
   "metadata": {},
   "outputs": [],
   "source": [
    "#12. What integers represent the levels of headings available in Word documents?\n",
    "\n",
    "# Ans \n",
    "#The levels for a heading in a word document can be specified by using the level attribute inside the add_heading method.\n",
    "#There are a total of 5 levels statring for 0 t0 4. where level 0 makes a headline with the horizontal line below the text, \n",
    "#whereas the heading level 1 is the main heading. Similarly, \n",
    "#the other headings are sub-heading with their's font-sizes in decreasing order."
   ]
  },
  {
   "cell_type": "code",
   "execution_count": null,
   "id": "e3087eae",
   "metadata": {},
   "outputs": [],
   "source": []
  }
 ],
 "metadata": {
  "kernelspec": {
   "display_name": "Python 3 (ipykernel)",
   "language": "python",
   "name": "python3"
  },
  "language_info": {
   "codemirror_mode": {
    "name": "ipython",
    "version": 3
   },
   "file_extension": ".py",
   "mimetype": "text/x-python",
   "name": "python",
   "nbconvert_exporter": "python",
   "pygments_lexer": "ipython3",
   "version": "3.9.12"
  }
 },
 "nbformat": 4,
 "nbformat_minor": 5
}
