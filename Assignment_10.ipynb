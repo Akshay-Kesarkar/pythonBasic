{
 "cells": [
  {
   "cell_type": "code",
   "execution_count": 1,
   "id": "597fd778",
   "metadata": {},
   "outputs": [],
   "source": [
    "#  1. How do you distinguish between shutil.copy() and shutil.copytree()?\n",
    "\n",
    "# Ans\n",
    "\n",
    "# While shutil. copy() will copy a single file, shutil. \n",
    "# copytree() will copy an entire folder and every folder and file contained in it."
   ]
  },
  {
   "cell_type": "code",
   "execution_count": 3,
   "id": "2abc6184",
   "metadata": {},
   "outputs": [],
   "source": [
    "# 2. What function is used to rename files?\n",
    "\n",
    "#Ans\n",
    "# os.rename(source, dest) function is used to rename file \n",
    "# veriable holds source, dest - file name with path , new file name with path"
   ]
  },
  {
   "cell_type": "code",
   "execution_count": 4,
   "id": "2db96d2c",
   "metadata": {},
   "outputs": [],
   "source": [
    "# 3. What is the difference between the delete functions in the send2trash and shutil modules?\n",
    "\n",
    "# Ans\n",
    "\n",
    "# The send2trash functions will move a file or folder to the recycle bin\n",
    "# while shutil functions will permanently delete files and folders."
   ]
  },
  {
   "cell_type": "code",
   "execution_count": 5,
   "id": "dba24f72",
   "metadata": {},
   "outputs": [],
   "source": [
    "# 4.ZipFile objects have a close() method just like File objects’ close() method.\n",
    "# What ZipFile method is equivalent to File objects’ open() method?\n",
    "\n",
    "# Ans\n",
    "\n",
    "# The ZipFile() function is equivalent to the open() function; the first argument is the filename,\n",
    "# and the second argument is the mode to open the ZIP file in (read, write, or append)."
   ]
  },
  {
   "cell_type": "code",
   "execution_count": 6,
   "id": "25bedb0f",
   "metadata": {},
   "outputs": [],
   "source": [
    "# 5. Create a programme that searches a folder tree for files with a certain file extension (such as .pdf or .jpg). \n",
    "# Copy these files from whatever location they are in to a new folder.\n",
    "\n",
    "#Ans"
   ]
  },
  {
   "cell_type": "code",
   "execution_count": 18,
   "id": "6012e38a",
   "metadata": {},
   "outputs": [
    {
     "name": "stdout",
     "output_type": "stream",
     "text": [
      "C:\\Users\\HP\\trial\\\n"
     ]
    }
   ],
   "source": [
    "import os\n",
    "import shutil\n",
    "\n",
    "src= r\"C:\\Users\\HP\\Downloads\"\n",
    "dest = os.getcwd() + \"\\\\trial\\\\\"\n",
    "print(dest)"
   ]
  },
  {
   "cell_type": "code",
   "execution_count": 31,
   "id": "6eaaadcb",
   "metadata": {},
   "outputs": [
    {
     "name": "stdout",
     "output_type": "stream",
     "text": [
      "C:\\Users\\HP\\Downloads\\bearing.pdf\n",
      "C:\\Users\\HP\\Downloads\\Data Science INterview Questions #Day1.pdf\n",
      "C:\\Users\\HP\\Downloads\\Exam ref 70-761 querying data with Transact-SQL ( PDFDrive ).pdf\n",
      "C:\\Users\\HP\\Downloads\\Introduction to Machine Learning, Second Edition (Adaptive Computation and Machine Learning) ( PDFDrive ).pdf\n",
      "C:\\Users\\HP\\Downloads\\Python and Tkinter Programming ( PDFDrive ).pdf\n",
      "C:\\Users\\HP\\Downloads\\skf_bearing.pdf\n",
      "C:\\Users\\HP\\Downloads\\19.2.MySQL\\19.2.MySQL\\MYSQL application.pdf\n"
     ]
    }
   ],
   "source": [
    "for dirs, subdirs , files in os.walk(src):\n",
    "    for file in files:\n",
    "        if file.endswith(\".pdf\"):\n",
    "            #print(file)\n",
    "            filename=os.path.join(src,dirs,file)\n",
    "            if os.path.exists(filename):\n",
    "                print(filename)\n",
    "                shutil.copy(filename,dest)\n"
   ]
  },
  {
   "cell_type": "code",
   "execution_count": 33,
   "id": "5847f9f1",
   "metadata": {},
   "outputs": [
    {
     "name": "stdout",
     "output_type": "stream",
     "text": [
      "C:\\Users\\HP\\Downloads\\Dress_sales_datbase.PNG\n",
      "C:\\Users\\HP\\Downloads\\Dress_sales_table.PNG\n"
     ]
    }
   ],
   "source": [
    "for dirs, subdirs , files in os.walk(src):\n",
    "    for file in files:\n",
    "        if file.endswith(\".PNG\"):\n",
    "            #print(file)\n",
    "            filename=os.path.join(src,dirs,file)\n",
    "            if os.path.exists(filename):\n",
    "                print(filename)\n",
    "                shutil.copy(filename,dest)\n"
   ]
  },
  {
   "cell_type": "code",
   "execution_count": null,
   "id": "b7027e6b",
   "metadata": {},
   "outputs": [],
   "source": []
  }
 ],
 "metadata": {
  "kernelspec": {
   "display_name": "Python 3 (ipykernel)",
   "language": "python",
   "name": "python3"
  },
  "language_info": {
   "codemirror_mode": {
    "name": "ipython",
    "version": 3
   },
   "file_extension": ".py",
   "mimetype": "text/x-python",
   "name": "python",
   "nbconvert_exporter": "python",
   "pygments_lexer": "ipython3",
   "version": "3.9.12"
  }
 },
 "nbformat": 4,
 "nbformat_minor": 5
}
