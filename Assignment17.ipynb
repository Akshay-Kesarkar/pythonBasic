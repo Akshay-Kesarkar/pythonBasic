{
 "cells": [
  {
   "cell_type": "code",
   "execution_count": 4,
   "id": "bba5427d-9a9e-4695-85d8-74e632a46bae",
   "metadata": {},
   "outputs": [
    {
     "name": "stdout",
     "output_type": "stream",
     "text": [
      "just right\n"
     ]
    }
   ],
   "source": [
    "# 1. Assign the value 7 to the variable guess_me. \n",
    "# Then, write the conditional tests (if, else, and elif) to\n",
    "# print the string 'too low' if guess_me is less than 7, \n",
    "# 'too high' if greater than 7, and 'just right' if equal to 7.\n",
    "\n",
    "# Ans\n",
    "guess_me = 7\n",
    "if guess_me<7:\n",
    "    print('too low')\n",
    "elif guess_me>7:\n",
    "    print('too high')\n",
    "else:\n",
    "    print('just right')"
   ]
  },
  {
   "cell_type": "code",
   "execution_count": 6,
   "id": "d4d4bc29-fcbd-4d54-b318-93e071328c39",
   "metadata": {},
   "outputs": [
    {
     "name": "stdout",
     "output_type": "stream",
     "text": [
      "too low\n",
      "too low\n",
      "too low\n",
      "too low\n",
      "too low\n",
      "too low\n",
      "found it!\n"
     ]
    }
   ],
   "source": [
    "# 2. Assign the value 7 to the variable guess_me and the value 1 to the variable start.\n",
    "# Write a while loop that compares start with guess_me. Print too low if start is less than guess me. \n",
    "# If start equals guess_me, print 'found it!' and exit the loop. \n",
    "# If start is greater than guess_me, print 'oops' and exit the loop. \n",
    "# Increment start at the end of the loop.\n",
    "\n",
    "# Ans\n",
    "guess_me = 7\n",
    "start = 1\n",
    "\n",
    "while True:\n",
    "    if start < guess_me:\n",
    "        print('too low')\n",
    "    elif start == guess_me:\n",
    "        print('found it!')\n",
    "        break\n",
    "    else:\n",
    "        print('oops')\n",
    "        break\n",
    "    start += 1"
   ]
  },
  {
   "cell_type": "code",
   "execution_count": 7,
   "id": "899ad840-491a-47a4-8f45-eda67f3799ec",
   "metadata": {},
   "outputs": [
    {
     "name": "stdout",
     "output_type": "stream",
     "text": [
      "3\n",
      "2\n",
      "1\n",
      "0\n"
     ]
    }
   ],
   "source": [
    "# 3. Print the following values of the list [3, 2, 1, 0] using a for loop.\n",
    "\n",
    "# Ans\n",
    "\n",
    "for value in [3, 2, 1, 0]:\n",
    "    print(value)\n",
    "    "
   ]
  },
  {
   "cell_type": "code",
   "execution_count": 8,
   "id": "248e0ffa-18ab-495a-bd6b-3e4f2a7c2dec",
   "metadata": {},
   "outputs": [
    {
     "data": {
      "text/plain": [
       "[0, 2, 4, 6, 8]"
      ]
     },
     "execution_count": 8,
     "metadata": {},
     "output_type": "execute_result"
    }
   ],
   "source": [
    "# 4. Use a list comprehension to make a list of the even numbers in range(10)\n",
    "\n",
    "# Ans\n",
    "[even for even in range(10) if even%2==0]"
   ]
  },
  {
   "cell_type": "code",
   "execution_count": 10,
   "id": "6c80b1b1-cacd-42e0-8d56-08154de2150e",
   "metadata": {},
   "outputs": [
    {
     "data": {
      "text/plain": [
       "{0: 0, 1: 1, 2: 4, 3: 9, 4: 16, 5: 25, 6: 36, 7: 49, 8: 64, 9: 81}"
      ]
     },
     "execution_count": 10,
     "metadata": {},
     "output_type": "execute_result"
    }
   ],
   "source": [
    "# 5. Use a dictionary comprehension to create the dictionary squares. Use range(10) to return the keys,\n",
    "# and use the square of each key as its value.\n",
    "\n",
    "# Ans\n",
    "{key : key*key for key in range(10)}"
   ]
  },
  {
   "cell_type": "code",
   "execution_count": 11,
   "id": "e6769f49-ce7d-4263-9217-b9c1e2d6ceb5",
   "metadata": {},
   "outputs": [
    {
     "data": {
      "text/plain": [
       "{1, 3, 5, 7, 9}"
      ]
     },
     "execution_count": 11,
     "metadata": {},
     "output_type": "execute_result"
    }
   ],
   "source": [
    "# 6. Construct the set odd from the odd numbers in the range using a set comprehension (10).\n",
    "\n",
    "# Ans\n",
    "set(odd for odd in range(10) if odd%2!=0)"
   ]
  },
  {
   "cell_type": "code",
   "execution_count": 12,
   "id": "b1f8e06b-5950-4761-a91f-36384828a21a",
   "metadata": {},
   "outputs": [
    {
     "name": "stdout",
     "output_type": "stream",
     "text": [
      "Got 0 \n",
      "Got 1 \n",
      "Got 2 \n",
      "Got 3 \n",
      "Got 4 \n",
      "Got 5 \n",
      "Got 6 \n",
      "Got 7 \n",
      "Got 8 \n",
      "Got 9 \n"
     ]
    }
   ],
   "source": [
    "# 7. Use a generator comprehension to return the string 'Got ' and a number for the numbers in range(10).\n",
    "# Iterate through this by using a for loop.\n",
    "\n",
    "# Ans\n",
    "\n",
    "for i in (f'Got {number} ' for number in range(10)):\n",
    "    print(i)"
   ]
  },
  {
   "cell_type": "code",
   "execution_count": 13,
   "id": "0ed3128a-f664-40b2-8da8-d14bd8b17dea",
   "metadata": {},
   "outputs": [],
   "source": [
    "# 8. Define a function called good that returns the list ['Harry', 'Ron', 'Hermione'].\n",
    "\n",
    "# Ans\n",
    "def good():\n",
    "    return ['Harry', 'Ron', 'Hermione']"
   ]
  },
  {
   "cell_type": "code",
   "execution_count": 14,
   "id": "f043c4b5-eaae-4a5a-9466-4facb9ce273f",
   "metadata": {},
   "outputs": [
    {
     "data": {
      "text/plain": [
       "['Harry', 'Ron', 'Hermione']"
      ]
     },
     "execution_count": 14,
     "metadata": {},
     "output_type": "execute_result"
    }
   ],
   "source": [
    "good()"
   ]
  },
  {
   "cell_type": "code",
   "execution_count": 15,
   "id": "cc35e03b-9544-4c57-bdec-d1610fc0c760",
   "metadata": {},
   "outputs": [],
   "source": [
    "# 9. Define a generator function called get_odds that returns the odd numbers from range(10).\n",
    "# Use a for loop to find and print the third value returned.\n",
    "\n",
    "# Ans\n",
    "def get_odds():\n",
    "    for number in range(1,10,2):\n",
    "        yield number"
   ]
  },
  {
   "cell_type": "code",
   "execution_count": 16,
   "id": "904bb71f-69e8-402b-ae69-b873d1c6e4e3",
   "metadata": {},
   "outputs": [
    {
     "name": "stdout",
     "output_type": "stream",
     "text": [
      "5\n"
     ]
    }
   ],
   "source": [
    "for index , number in enumerate(get_odds(), start=1):\n",
    "    if index == 3:\n",
    "        print(number)"
   ]
  },
  {
   "cell_type": "code",
   "execution_count": null,
   "id": "a04f5cb2-da3a-4a86-b1f3-05106995e03d",
   "metadata": {},
   "outputs": [],
   "source": [
    "10. Define an exception called OopsException. Raise this exception to see what happens. Then write the code to catch this exception and print 'Caught an oops'."
   ]
  }
 ],
 "metadata": {
  "kernelspec": {
   "display_name": "Python 3 (ipykernel)",
   "language": "python",
   "name": "python3"
  },
  "language_info": {
   "codemirror_mode": {
    "name": "ipython",
    "version": 3
   },
   "file_extension": ".py",
   "mimetype": "text/x-python",
   "name": "python",
   "nbconvert_exporter": "python",
   "pygments_lexer": "ipython3",
   "version": "3.9.12"
  }
 },
 "nbformat": 4,
 "nbformat_minor": 5
}
