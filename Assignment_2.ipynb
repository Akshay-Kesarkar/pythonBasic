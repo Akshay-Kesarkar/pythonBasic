{
 "cells": [
  {
   "cell_type": "code",
   "execution_count": 1,
   "id": "96fdc217",
   "metadata": {},
   "outputs": [
    {
     "name": "stdout",
     "output_type": "stream",
     "text": [
      "a:  True\n",
      "b:  False\n"
     ]
    }
   ],
   "source": [
    "# 1.What are the two values of the Boolean data type? How do you write them?\n",
    "\n",
    "# Ans \n",
    "# There are 2 values of Boolean Data Type\n",
    "# 1.True 2. False\n",
    "a = True\n",
    "b = False\n",
    "print('a: ', a)\n",
    "print('b: ', b)"
   ]
  },
  {
   "cell_type": "code",
   "execution_count": null,
   "id": "45c8d8e9",
   "metadata": {},
   "outputs": [],
   "source": [
    "# 2. What are the three different types of Boolean operators?\n",
    "\n",
    "# Ans\n",
    "1. AND\n",
    "2. OR\n",
    "3. NOT"
   ]
  },
  {
   "cell_type": "code",
   "execution_count": 4,
   "id": "44194241",
   "metadata": {},
   "outputs": [
    {
     "name": "stdout",
     "output_type": "stream",
     "text": [
      "[1, 0, 0, 0]\n"
     ]
    },
    {
     "data": {
      "text/plain": [
       "[True, False, False, False]"
      ]
     },
     "execution_count": 4,
     "metadata": {},
     "output_type": "execute_result"
    }
   ],
   "source": [
    "#3. Make a list of each Boolean operator's truth tables \n",
    "#(i.e. every possible combination of Boolean values for the operator and what it evaluate ).\n",
    "\n",
    "#Ans\n",
    "list_AND = [1 and 1, 1 and 0, 0 and 1, 0 and 0]\n",
    "print(list_AND)\n",
    "_AND =[True and True ,True and False, False and True, False and False]\n",
    "_AND"
   ]
  },
  {
   "cell_type": "code",
   "execution_count": 5,
   "id": "59d5612e",
   "metadata": {},
   "outputs": [
    {
     "name": "stdout",
     "output_type": "stream",
     "text": [
      "[1, 1, 1, 0]\n"
     ]
    },
    {
     "data": {
      "text/plain": [
       "[True, True, True, False]"
      ]
     },
     "execution_count": 5,
     "metadata": {},
     "output_type": "execute_result"
    }
   ],
   "source": [
    "list_OR = [1 or 1, 1 or 0, 0 or 1, 0 or 0]\n",
    "print(list_OR)\n",
    "_OR = [True or True, True or False, False or True, False or False]\n",
    "_OR"
   ]
  },
  {
   "cell_type": "code",
   "execution_count": 7,
   "id": "519ef698",
   "metadata": {},
   "outputs": [
    {
     "name": "stdout",
     "output_type": "stream",
     "text": [
      "[False, True]\n"
     ]
    },
    {
     "data": {
      "text/plain": [
       "[False, True]"
      ]
     },
     "execution_count": 7,
     "metadata": {},
     "output_type": "execute_result"
    }
   ],
   "source": [
    "list_NOT = [not 1, not 0]\n",
    "print(list_NOT)\n",
    "_NOT=[not True, not False]\n",
    "_NOT"
   ]
  },
  {
   "cell_type": "code",
   "execution_count": 9,
   "id": "04c4f036",
   "metadata": {},
   "outputs": [
    {
     "name": "stdout",
     "output_type": "stream",
     "text": [
      "False False True False False True\n"
     ]
    }
   ],
   "source": [
    "#4. What are the values of the following expressions?\n",
    "#(5 > 4) and (3 == 5)\n",
    "#not (5 > 4)\n",
    "#(5 > 4) or (3 == 5)\n",
    "#not ((5 > 4) or (3 == 5))\n",
    "#(True and True) and (True == False)\n",
    "#(not False) or (not True)\n",
    "\n",
    "#Ans\n",
    "print((5 > 4) and (3 == 5),#False\n",
    "        not (5 > 4),#False\n",
    "        (5 > 4) or (3 == 5),#True\n",
    "        not ((5 > 4) or (3 == 5)),#False\n",
    "        (True and True) and (True == False),#False\n",
    "        (not False) or (not True) #True\n",
    ")\n",
    "\n"
   ]
  },
  {
   "cell_type": "code",
   "execution_count": null,
   "id": "689b3787",
   "metadata": {},
   "outputs": [],
   "source": [
    "# 5. What are the six comparison operators?\n",
    "\n",
    "#Ans\n",
    "less than ( < )\n",
    "less than or equal to ( <= )\n",
    "greater than ( > )\n",
    "greater than or equal to ( >= )\n",
    "equal to ( == )\n",
    "not equal to ( != )"
   ]
  },
  {
   "cell_type": "code",
   "execution_count": 11,
   "id": "35fa0ed8",
   "metadata": {},
   "outputs": [
    {
     "name": "stdout",
     "output_type": "stream",
     "text": [
      "[10, 20, 30, 40, 50]\n",
      "10\n"
     ]
    }
   ],
   "source": [
    "#6. How do you tell the difference between the equal to and assignment operators?\n",
    "#Describe a condition and when you would use one.\n",
    "\n",
    "#Ans\n",
    "# = : single equals to sign is used for the assignment operation.\n",
    "# ==  : double equals to sign is used for the equal to condition check.\n",
    "a=[10,20,30,40,50]\n",
    "print(a)\n",
    "for i in a:\n",
    "    if i==10:\n",
    "        print(i)"
   ]
  },
  {
   "cell_type": "raw",
   "id": "510ba0db",
   "metadata": {},
   "source": [
    "7.Identify the three blocks in this code:\n",
    "spam = 0\n",
    "if spam == 10:\n",
    "print('eggs')\n",
    "if spam > 5:\n",
    "print('bacon')\n",
    "else:\n",
    "print('ham')\n",
    "print('spam')\n",
    "print('spam')"
   ]
  },
  {
   "cell_type": "code",
   "execution_count": 12,
   "id": "930686d8",
   "metadata": {},
   "outputs": [
    {
     "name": "stdout",
     "output_type": "stream",
     "text": [
      "ham\n",
      "spam\n",
      "spam\n"
     ]
    }
   ],
   "source": [
    "#Ans\n",
    "spam = 0\n",
    "if spam == 10:  ## Block 1\n",
    "    print('eggs')    \n",
    "if spam > 5:    ## Block 2\n",
    "    print('bacon')\n",
    "else:           ## Block 3\n",
    "    print('ham')   \n",
    "print('spam')\n",
    "print('spam')"
   ]
  },
  {
   "cell_type": "raw",
   "id": "7d5b0984",
   "metadata": {},
   "source": [
    "8. Write code that prints Hello if 1 is stored in spam, prints Howdy if 2 is stored in spam,\n",
    "and prints Greetings! if anything else is stored in spam."
   ]
  },
  {
   "cell_type": "code",
   "execution_count": 16,
   "id": "070c7568",
   "metadata": {},
   "outputs": [
    {
     "name": "stdout",
     "output_type": "stream",
     "text": [
      "Howdy\n"
     ]
    }
   ],
   "source": [
    "#Ans\n",
    "spam = 2\n",
    "if spam == 1:\n",
    "    print('Hello')\n",
    "elif spam == 2:\n",
    "    print('Howdy')\n",
    "else:\n",
    "    print('Greetings!')"
   ]
  },
  {
   "cell_type": "code",
   "execution_count": null,
   "id": "063d1d4b",
   "metadata": {},
   "outputs": [],
   "source": [
    "#9.If your programme is stuck in an endless loop, what keys you’ll press?\n",
    "\n",
    "#Ans\n",
    "Press Ctrl + C on the command line.\n",
    "Restart the kernal"
   ]
  },
  {
   "cell_type": "code",
   "execution_count": 18,
   "id": "8d95ae5f",
   "metadata": {},
   "outputs": [
    {
     "name": "stdout",
     "output_type": "stream",
     "text": [
      "s\n",
      "t\n",
      "r\n",
      "Break\n",
      "s\n",
      "t\n",
      "r\n",
      "n\n",
      "g\n",
      "continue\n"
     ]
    }
   ],
   "source": [
    "#10. How can you tell the difference between break and continue?\n",
    "\n",
    "#Ans\n",
    "#Break: It is used to break the loop and exit from the loop\n",
    "#continue: It is used to skip the current iteration of the loop and continue with the next iteration.\n",
    "# Use of break statement inside the loop\n",
    "\n",
    "for val in \"string\":\n",
    "    if val == \"i\":\n",
    "        break\n",
    "    print(val)\n",
    "\n",
    "print(\"Break\")\n",
    "\n",
    "# Program to show the use of continue statement inside loops\n",
    "\n",
    "for val in \"string\":\n",
    "    if val == \"i\":\n",
    "        continue\n",
    "    print(val)\n",
    "\n",
    "print(\"continue\")\n"
   ]
  },
  {
   "cell_type": "code",
   "execution_count": 31,
   "id": "8ad30ee8",
   "metadata": {},
   "outputs": [
    {
     "name": "stdout",
     "output_type": "stream",
     "text": [
      "0 1 2 3 4 5 6 7 8 9 "
     ]
    }
   ],
   "source": [
    "#11. In a for loop, what is the difference between range(10), range(0, 10), and range(0, 10, 1)?\n",
    "\n",
    "#Ans\n",
    "# There is no differance\n",
    "for i in range(10):\n",
    "    print(i , end = ' ')"
   ]
  },
  {
   "cell_type": "code",
   "execution_count": 29,
   "id": "95169e26",
   "metadata": {},
   "outputs": [
    {
     "name": "stdout",
     "output_type": "stream",
     "text": [
      "0 1 2 3 4 5 6 7 8 9 "
     ]
    }
   ],
   "source": [
    "for g in range(0,10):\n",
    "    print(g, end=' ')"
   ]
  },
  {
   "cell_type": "code",
   "execution_count": 30,
   "id": "b99d8799",
   "metadata": {},
   "outputs": [
    {
     "name": "stdout",
     "output_type": "stream",
     "text": [
      "0 1 2 3 4 5 6 7 8 9 "
     ]
    }
   ],
   "source": [
    "for n in range(0,10,1):\n",
    "    print(n, end=' ')"
   ]
  },
  {
   "cell_type": "code",
   "execution_count": 33,
   "id": "5a01a0a0",
   "metadata": {},
   "outputs": [
    {
     "name": "stdout",
     "output_type": "stream",
     "text": [
      "1 2 3 4 5 6 7 8 9 10 "
     ]
    }
   ],
   "source": [
    "#12. Write a short program that prints the numbers 1 to 10 using a for loop. \n",
    "#Then write an equivalent program that prints the numbers 1 to 10 using a while loop.\n",
    "\n",
    "#Ans\n",
    "#Using for loop\n",
    "for i in range(1,11):\n",
    "    print(i, end=' ')"
   ]
  },
  {
   "cell_type": "code",
   "execution_count": 34,
   "id": "80ab4b1e",
   "metadata": {},
   "outputs": [
    {
     "name": "stdout",
     "output_type": "stream",
     "text": [
      "1 2 3 4 5 6 7 8 9 10 "
     ]
    }
   ],
   "source": [
    "#Using while loop\n",
    "i = 1\n",
    "while i < 11:\n",
    "    print(i, end = ' ')\n",
    "    i += 1   "
   ]
  },
  {
   "cell_type": "code",
   "execution_count": 1,
   "id": "df4a43f7",
   "metadata": {},
   "outputs": [
    {
     "name": "stdout",
     "output_type": "stream",
     "text": [
      "This is my code to call fun bacon() from module spam\n"
     ]
    }
   ],
   "source": [
    "#13. If you had a function named bacon() inside a module named spam, how would you call it after importing spam?\n",
    "\n",
    "#Ans:\n",
    "import spam\n",
    "spam.bacon()"
   ]
  },
  {
   "cell_type": "code",
   "execution_count": null,
   "id": "6f6cdf1f",
   "metadata": {},
   "outputs": [],
   "source": []
  }
 ],
 "metadata": {
  "kernelspec": {
   "display_name": "Python 3 (ipykernel)",
   "language": "python",
   "name": "python3"
  },
  "language_info": {
   "codemirror_mode": {
    "name": "ipython",
    "version": 3
   },
   "file_extension": ".py",
   "mimetype": "text/x-python",
   "name": "python",
   "nbconvert_exporter": "python",
   "pygments_lexer": "ipython3",
   "version": "3.9.7"
  }
 },
 "nbformat": 4,
 "nbformat_minor": 5
}
