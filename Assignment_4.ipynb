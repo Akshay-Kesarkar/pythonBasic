{
 "cells": [
  {
   "cell_type": "code",
   "execution_count": 1,
   "id": "9a2c359a",
   "metadata": {},
   "outputs": [
    {
     "data": {
      "text/plain": [
       "list"
      ]
     },
     "execution_count": 1,
     "metadata": {},
     "output_type": "execute_result"
    }
   ],
   "source": [
    "#1. What exactly is []?\n",
    "\n",
    "#Ans\n",
    "# [] is the empty list\n",
    "a=[]\n",
    "type(a)"
   ]
  },
  {
   "cell_type": "code",
   "execution_count": 2,
   "id": "65bbf8e0",
   "metadata": {},
   "outputs": [
    {
     "name": "stdout",
     "output_type": "stream",
     "text": [
      "[2, 4, 6, 8, 10]\n",
      "[2, 4, 'hello', 8, 10]\n"
     ]
    }
   ],
   "source": [
    "#2. In a list of values stored in a variable called spam,\n",
    "#how would you assign the value 'hello' as the third value? \n",
    "#(Assume [2, 4, 6, 8, 10] are in spam.)\n",
    "\n",
    "#Ans\n",
    "spam=[2, 4, 6, 8, 10]\n",
    "print(spam)\n",
    "spam[2]='hello' #We need to modify the value at index 2 of spam in the list\n",
    "print(spam)"
   ]
  },
  {
   "cell_type": "code",
   "execution_count": 3,
   "id": "0d37327c",
   "metadata": {},
   "outputs": [],
   "source": [
    "# Let's pretend the spam includes the list ['a', 'b', 'c', 'd'] for the next three queries."
   ]
  },
  {
   "cell_type": "code",
   "execution_count": 4,
   "id": "f17c0000",
   "metadata": {},
   "outputs": [],
   "source": [
    "spam=['a', 'b', 'c', 'd']"
   ]
  },
  {
   "cell_type": "code",
   "execution_count": 5,
   "id": "eb8c3b7d",
   "metadata": {},
   "outputs": [
    {
     "data": {
      "text/plain": [
       "'d'"
      ]
     },
     "execution_count": 5,
     "metadata": {},
     "output_type": "execute_result"
    }
   ],
   "source": [
    "#3. What is the value of spam[int(int('3' * 2) / 11)]?\n",
    "\n",
    "#Ans\n",
    "spam[int(int('3' * 2) / 11)]"
   ]
  },
  {
   "cell_type": "code",
   "execution_count": 6,
   "id": "a1fb6207",
   "metadata": {},
   "outputs": [
    {
     "data": {
      "text/plain": [
       "'d'"
      ]
     },
     "execution_count": 6,
     "metadata": {},
     "output_type": "execute_result"
    }
   ],
   "source": [
    "# 4. What is the value of spam[-1]?\n",
    "\n",
    "#Ans\n",
    "spam[-1]"
   ]
  },
  {
   "cell_type": "code",
   "execution_count": 7,
   "id": "4b599449",
   "metadata": {},
   "outputs": [
    {
     "data": {
      "text/plain": [
       "['a', 'b']"
      ]
     },
     "execution_count": 7,
     "metadata": {},
     "output_type": "execute_result"
    }
   ],
   "source": [
    "# 5. What is the value of spam[:2]?\n",
    "\n",
    "#Ans\n",
    "spam[:2]"
   ]
  },
  {
   "cell_type": "code",
   "execution_count": 8,
   "id": "21ee19e3",
   "metadata": {},
   "outputs": [],
   "source": [
    "# Let's pretend bacon has the list [3.14, 'cat,' 11 , 'cat,' True] for the next three questions."
   ]
  },
  {
   "cell_type": "code",
   "execution_count": 9,
   "id": "cb74dbf4",
   "metadata": {},
   "outputs": [],
   "source": [
    "bacon=[3.14, 'cat', 11, 'cat', True]"
   ]
  },
  {
   "cell_type": "code",
   "execution_count": 10,
   "id": "49bef3d8",
   "metadata": {},
   "outputs": [
    {
     "data": {
      "text/plain": [
       "1"
      ]
     },
     "execution_count": 10,
     "metadata": {},
     "output_type": "execute_result"
    }
   ],
   "source": [
    "# 6. What is the value of bacon.index('cat')?\n",
    "\n",
    "#Ans\n",
    "bacon.index('cat')\n",
    "# while repited value it will show 1st index value i.e 1"
   ]
  },
  {
   "cell_type": "code",
   "execution_count": 11,
   "id": "f33f11de",
   "metadata": {},
   "outputs": [
    {
     "name": "stdout",
     "output_type": "stream",
     "text": [
      "[3.14, 'cat', 11, 'cat', True]\n",
      "[3.14, 'cat', 11, 'cat', True, 99]\n"
     ]
    }
   ],
   "source": [
    "# 7. How does bacon.append(99) change the look of the list value in bacon?\n",
    "\n",
    "#Ans\n",
    "print(bacon)\n",
    "bacon.append(99) # append the value at end in list\n",
    "print(bacon)"
   ]
  },
  {
   "cell_type": "code",
   "execution_count": 12,
   "id": "75b0e840",
   "metadata": {},
   "outputs": [
    {
     "name": "stdout",
     "output_type": "stream",
     "text": [
      "[3.14, 'cat', 11, 'cat', True, 99]\n",
      "[3.14, 11, 'cat', True, 99]\n"
     ]
    }
   ],
   "source": [
    "# 8. How does bacon.remove('cat') change the look of the list in bacon?\n",
    "\n",
    "#Ans\n",
    "print(bacon)\n",
    "bacon.remove('cat') #It will remove the first occurence of the 'cat'\n",
    "print(bacon)"
   ]
  },
  {
   "cell_type": "code",
   "execution_count": 13,
   "id": "1e149b89",
   "metadata": {},
   "outputs": [
    {
     "name": "stdout",
     "output_type": "stream",
     "text": [
      "['a', 'b', 'c', 'd', 3.14, 11, 'cat', True, 99]\n",
      "stringstring\n"
     ]
    }
   ],
   "source": [
    "# 9. What are the list concatenation and list replication operators?\n",
    "\n",
    "# Ans\n",
    "# List concatenation operator is ‘+’ while list replication operator is ‘*’\n",
    "concat=spam+bacon\n",
    "print(concat)\n",
    "replicat = 'string'* 2\n",
    "print(replicat )"
   ]
  },
  {
   "cell_type": "code",
   "execution_count": 14,
   "id": "e83a123d",
   "metadata": {},
   "outputs": [
    {
     "name": "stdout",
     "output_type": "stream",
     "text": [
      "[3.14, 11, 55, 'cat', True, 99, 22]\n"
     ]
    }
   ],
   "source": [
    "# 10. What is difference between the list methods append() and insert()?\n",
    "\n",
    "#Ans\n",
    "#Append method appends the given object to the end of the list always.\n",
    "#Insert method accepts two arguments, index at which the element needs to be inserted and the object to insert.\n",
    "bacon.append(22)\n",
    "bacon.insert(2,55)\n",
    "print(bacon)"
   ]
  },
  {
   "cell_type": "code",
   "execution_count": 15,
   "id": "93387238",
   "metadata": {},
   "outputs": [
    {
     "name": "stdout",
     "output_type": "stream",
     "text": [
      "[3.14, 11, 55, 'cat', True, 99, 22]\n",
      "[3.14, 11, True, 22]\n"
     ]
    }
   ],
   "source": [
    "# 11. What are the two methods for removing items from a list?\n",
    "\n",
    "#Ans\n",
    "# List.remove(object) -> Removes the first occurrence of the given object from the list\n",
    "# List.pop(index = -1) -> Removes and returns item at the index (default is -1, the last element)\n",
    "print(bacon)\n",
    "bacon.remove('cat')\n",
    "bacon.pop(2)\n",
    "bacon.pop(-2)\n",
    "print(bacon)"
   ]
  },
  {
   "cell_type": "code",
   "execution_count": 19,
   "id": "edca368b",
   "metadata": {},
   "outputs": [
    {
     "name": "stdout",
     "output_type": "stream",
     "text": [
      "[3.14, 11, True, 22]\n",
      "3.14\n",
      "11\n",
      "True\n",
      "22\n",
      "asks\n",
      "a\n",
      "s\n",
      "k\n",
      "s\n"
     ]
    }
   ],
   "source": [
    "# 12. Describe how list values and string values are identical.\n",
    "\n",
    "#Ans\n",
    "#While list is a collection of values in Python, string is a collection of characters. \n",
    "#Both list and strings are iterable in Python and a for loop can be used around a list \n",
    "#or string object to iterate through each element in the list/string.\n",
    "print(bacon)\n",
    "for i in bacon:\n",
    "    print(i)\n",
    "\n",
    "string=\"asks\"\n",
    "print(string)\n",
    "for i in string:\n",
    "    print(i)\n",
    "    "
   ]
  },
  {
   "cell_type": "code",
   "execution_count": 25,
   "id": "e8ddb8c9",
   "metadata": {},
   "outputs": [
    {
     "name": "stdout",
     "output_type": "stream",
     "text": [
      "<class 'list'>\n",
      "[1, 2, 'spam', 4, 5]\n",
      "<class 'tuple'>\n",
      "(1, 2, 3, 4, 6)\n"
     ]
    }
   ],
   "source": [
    "# 13. What's the difference between tuples and lists?\n",
    "\n",
    "#Ans\n",
    "#Tuples are immutable where as lists in Python are mutable. \n",
    "#So once created, the items inside a tuple cannot be changed.\n",
    "list1=[1,2,3,4,5] # brackets used []\n",
    "print(type(list1))\n",
    "list1[2]=\"spam\"\n",
    "print(list1)\n",
    "\n",
    "tuple1=(1,2,3,4,6) # brackets used ()\n",
    "print(type(tuple1))\n",
    "#tuple1[2]=\"spam\"   # 'tuple' object does not support item assignment\n",
    "print(tuple1)\n"
   ]
  },
  {
   "cell_type": "code",
   "execution_count": 32,
   "id": "c2fb371f",
   "metadata": {},
   "outputs": [
    {
     "name": "stdout",
     "output_type": "stream",
     "text": [
      "<class 'tuple'>\n",
      "(42,)\n"
     ]
    }
   ],
   "source": [
    "#14. How do you type a tuple value that only contains the integer 42?\n",
    "\n",
    "#Ans\n",
    "tup =tuple([42])\n",
    "print(type(tup))\n",
    "print(tup)"
   ]
  },
  {
   "cell_type": "code",
   "execution_count": 33,
   "id": "606df9c6",
   "metadata": {},
   "outputs": [
    {
     "data": {
      "text/plain": [
       "list"
      ]
     },
     "execution_count": 33,
     "metadata": {},
     "output_type": "execute_result"
    }
   ],
   "source": [
    "# 15. How do you get a list value's tuple form? How do you get a tuple value's list form?\n",
    "\n",
    "#Ans\n",
    "# By using type casting\n",
    "b = tuple([1, 4, 3, 5])\n",
    "type(b)  # tuple\n",
    "c = list(b)\n",
    "type(c) # list"
   ]
  },
  {
   "cell_type": "code",
   "execution_count": 34,
   "id": "af279938",
   "metadata": {},
   "outputs": [
    {
     "name": "stdout",
     "output_type": "stream",
     "text": [
      "['string', 2, 3]\n",
      "2719546967488\n"
     ]
    }
   ],
   "source": [
    "#16. Variables that \"contain\" list values are not necessarily lists themselves. Instead, what do they contain?\n",
    "\n",
    "#Ans\n",
    "#They contain references to the list values\n",
    "var = [\"string\",2,3]\n",
    "print(var)\n",
    "print(id(var))"
   ]
  },
  {
   "cell_type": "code",
   "execution_count": null,
   "id": "ae1c0646",
   "metadata": {},
   "outputs": [],
   "source": [
    "# 17. How do you distinguish between copy.copy() and copy.deepcopy()?\n",
    "\n",
    "#Ans\n",
    "#  copy.copy(x)\n",
    "#  Return a shallow copy of x.\n",
    "\n",
    "#  copy.deepcopy(x[, memo])\n",
    "#  Return a deep copy of x.\n",
    "\n",
    "#  A shallow copy constructs a new compound object and then (to the extent possible)\n",
    "#  inserts references into it to the objects found in the original.\n",
    "\n",
    "#  A deep copy constructs a new compound object and then, recursively, \n",
    "#  inserts copies into it of the objects found in the original."
   ]
  },
  {
   "cell_type": "code",
   "execution_count": null,
   "id": "e7279d31",
   "metadata": {},
   "outputs": [],
   "source": []
  }
 ],
 "metadata": {
  "kernelspec": {
   "display_name": "Python 3 (ipykernel)",
   "language": "python",
   "name": "python3"
  },
  "language_info": {
   "codemirror_mode": {
    "name": "ipython",
    "version": 3
   },
   "file_extension": ".py",
   "mimetype": "text/x-python",
   "name": "python",
   "nbconvert_exporter": "python",
   "pygments_lexer": "ipython3",
   "version": "3.9.7"
  }
 },
 "nbformat": 4,
 "nbformat_minor": 5
}
