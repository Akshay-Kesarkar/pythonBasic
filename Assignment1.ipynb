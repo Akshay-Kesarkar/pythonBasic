{
 "cells": [
  {
   "cell_type": "code",
   "execution_count": 3,
   "id": "27fd0608",
   "metadata": {},
   "outputs": [
    {
     "name": "stdout",
     "output_type": "stream",
     "text": [
      "hello\n",
      "-81.8 -93.8 -526.8 -14.633333333333333\n"
     ]
    }
   ],
   "source": [
    "#1. In the below elements which of them are values or an expression? \n",
    "#   eg:- values can be integer or string and expressions will be mathematical operators.\n",
    "#   * 'hello'-87.8- / +  6 \n",
    "# Ans\n",
    "print('hello')\n",
    "\"\"\"hello is string\"\"\"\n",
    "a=-87.8\n",
    "b= 6\n",
    "c=a+b\n",
    "e=a-b\n",
    "f=a*b\n",
    "g=a/b\n",
    "\"\"\"-87.8 and 6 are integer and by using operators(+,-,*,/) we can write expression to do mathematical operation  \"\"\"\n",
    "print(c,e,f,g)\n"
   ]
  },
  {
   "cell_type": "code",
   "execution_count": 7,
   "id": "56da0ba1",
   "metadata": {},
   "outputs": [
    {
     "name": "stdout",
     "output_type": "stream",
     "text": [
      "string string 14\n",
      "14 string 14\n"
     ]
    }
   ],
   "source": [
    "#2. What is the difference between string and variable?\n",
    "# Ans\n",
    "print(\"string\",'string',\"14\")\n",
    "# string is data which is written in between \"\" or ''\n",
    "string= 14\n",
    "string1=\"string\"\n",
    "# variable will hold the data.\n",
    "print(string, string1)"
   ]
  },
  {
   "cell_type": "code",
   "execution_count": 29,
   "id": "ecee761a",
   "metadata": {},
   "outputs": [
    {
     "name": "stdout",
     "output_type": "stream",
     "text": [
      "<class 'str'>\n",
      "<class 'int'> <class 'int'> <class 'float'> <class 'complex'>\n",
      "<class 'list'> <class 'tuple'> <class 'range'>\n",
      "<class 'dict'>\n",
      "<class 'set'>\n",
      "<class 'bool'>\n",
      "<class 'bytes'>\n",
      "<class 'NoneType'>\n"
     ]
    }
   ],
   "source": [
    "# 3. Describe three different data types.\n",
    "# Ans\n",
    "# Text Type:str\n",
    "# Numeric Types: int, float, complex\n",
    "# Sequence Types: list, tuple, range\n",
    "# Mapping Type: dict\n",
    "# Set Types: set\n",
    "# Boolean Type:bool\n",
    "# Binary Types: bytes\n",
    "# None Type: NoneType\n",
    "print(type(\"string\"))\n",
    "print(type(14),type(14),type(12.5),type(4+5j))\n",
    "l=[4,56,7]\n",
    "t=(97,8,9)\n",
    "print(type(l),type(t),type(range(10)))\n",
    "dic={\"key1\":(97,8,9),\"key2\":[4,56,7]}\n",
    "print(type(dic))\n",
    "set={1,2,1,2,4,5,6}\n",
    "print(type(set))\n",
    "y=True or False\n",
    "print(type(y))\n",
    "x = b\"Hello\"\n",
    "print(type(x))\n",
    "z= None\n",
    "print(type(z))"
   ]
  },
  {
   "cell_type": "code",
   "execution_count": 3,
   "id": "f6ea7f2b",
   "metadata": {},
   "outputs": [
    {
     "name": "stdout",
     "output_type": "stream",
     "text": [
      "24\n"
     ]
    }
   ],
   "source": [
    "# 4. What is an expression made up of? What do all expressions do?\n",
    "# Ans\n",
    "expression=5*4+4\n",
    "# Expression is made up of varible, operators and operands.\n",
    "print(expression)\n",
    "# Expression produce some value"
   ]
  },
  {
   "cell_type": "code",
   "execution_count": 5,
   "id": "8f068954",
   "metadata": {},
   "outputs": [
    {
     "name": "stdout",
     "output_type": "stream",
     "text": [
      "10 70\n"
     ]
    }
   ],
   "source": [
    "# 5. This assignment statements, like spam = 10. What is the difference between an expression and a statement?\n",
    "# Ans\n",
    "spam=10\n",
    "#it is just a statement and hold value and return nothing other than value, we can use it for further opertion\n",
    "exp=20+50\n",
    "# combination of values and functions that are combined and interpreted by the compiler to create a new value\n",
    "print(spam,exp)"
   ]
  },
  {
   "cell_type": "code",
   "execution_count": 11,
   "id": "26b7cb50",
   "metadata": {},
   "outputs": [
    {
     "data": {
      "text/plain": [
       "23"
      ]
     },
     "execution_count": 11,
     "metadata": {},
     "output_type": "execute_result"
    }
   ],
   "source": [
    "# 6. After running the following code, what does the variable bacon contain?\n",
    "bacon = 22\n",
    "bacon + 1\n",
    "# Ans \n",
    "# output is 23 "
   ]
  },
  {
   "cell_type": "code",
   "execution_count": 12,
   "id": "77fd58df",
   "metadata": {},
   "outputs": [
    {
     "data": {
      "text/plain": [
       "22"
      ]
     },
     "execution_count": 12,
     "metadata": {},
     "output_type": "execute_result"
    }
   ],
   "source": [
    "bacon\n",
    "# but variable bacon contain 22"
   ]
  },
  {
   "cell_type": "code",
   "execution_count": 15,
   "id": "5c519de2",
   "metadata": {},
   "outputs": [
    {
     "name": "stdout",
     "output_type": "stream",
     "text": [
      "spamspamspam\n",
      "spamspamspam\n"
     ]
    }
   ],
   "source": [
    "# 7. What should the values of the following two terms be?\n",
    "#'spam' + 'spamspam'\n",
    "#'spam' * 3\n",
    "#Ans\n",
    "print('spam' + 'spamspam')\n",
    "# it will concatenate the two value.\n",
    "print('spam' * 3)\n",
    "# print the value three times and value will be same at the end."
   ]
  },
  {
   "cell_type": "code",
   "execution_count": 22,
   "id": "a26db670",
   "metadata": {},
   "outputs": [
    {
     "name": "stdout",
     "output_type": "stream",
     "text": [
      "12 eggs\n"
     ]
    }
   ],
   "source": [
    "# 8. Why is eggs a valid variable name while 100 is invalid?\n",
    "# ans\n",
    "eggs= 12\n",
    "# 100 = \"eggs\"\n",
    "# error - cannot assign to literal\n",
    "# before 100 we can use underscore to make it variable\n",
    "_100 = \"eggs\"\n",
    "print(eggs,_100)\n"
   ]
  },
  {
   "cell_type": "code",
   "execution_count": 25,
   "id": "e4a6c9d4",
   "metadata": {},
   "outputs": [
    {
     "name": "stdout",
     "output_type": "stream",
     "text": [
      "12\n",
      "10.0\n",
      "14\n"
     ]
    }
   ],
   "source": [
    "# 9. What three functions can be used to get the integer, floating-point number, or string version of a value?\n",
    "# Ans\n",
    "# int(), float(),str( ) \n",
    "print(int(12.5))\n",
    "print(float(10))\n",
    "print(str(14)) "
   ]
  },
  {
   "cell_type": "code",
   "execution_count": 28,
   "id": "9c01ffd8",
   "metadata": {},
   "outputs": [
    {
     "name": "stdout",
     "output_type": "stream",
     "text": [
      "I have eaten 99 burritos.\n"
     ]
    }
   ],
   "source": [
    "#10. Why does this expression cause an error? How can you fix it?\n",
    "#'I have eaten ' + 99 + ' burritos.'\n",
    "# Ans\n",
    "# can only concatenate str (not \"int\") to str\n",
    "# by converting 99 into string we can fix this\n",
    "print('I have eaten ' + '99' + ' burritos.')"
   ]
  },
  {
   "cell_type": "code",
   "execution_count": null,
   "id": "092fd880",
   "metadata": {},
   "outputs": [],
   "source": []
  }
 ],
 "metadata": {
  "kernelspec": {
   "display_name": "Python 3 (ipykernel)",
   "language": "python",
   "name": "python3"
  },
  "language_info": {
   "codemirror_mode": {
    "name": "ipython",
    "version": 3
   },
   "file_extension": ".py",
   "mimetype": "text/x-python",
   "name": "python",
   "nbconvert_exporter": "python",
   "pygments_lexer": "ipython3",
   "version": "3.9.7"
  }
 },
 "nbformat": 4,
 "nbformat_minor": 5
}
