{
 "cells": [
  {
   "cell_type": "code",
   "execution_count": 1,
   "id": "f46e6074",
   "metadata": {},
   "outputs": [],
   "source": [
    "#1. What is the name of the feature responsible for generating Regex objects?\n",
    "\n",
    "# Ans:\n",
    "    \n",
    "# re.compile()"
   ]
  },
  {
   "cell_type": "code",
   "execution_count": 2,
   "id": "8360e0eb",
   "metadata": {},
   "outputs": [],
   "source": [
    "# 2. Why do raw strings often appear in Regex objects?\n",
    "\n",
    "# Ans:\n",
    "\n",
    "# Raw string notation keeps regular expression meaningful and confusion free. \n",
    "# Without it every backslash(' \\ ') in regular expression would have to be prefixed with another one to escape it."
   ]
  },
  {
   "cell_type": "code",
   "execution_count": 3,
   "id": "0777c0d4",
   "metadata": {},
   "outputs": [
    {
     "name": "stdout",
     "output_type": "stream",
     "text": [
      "Found at index  4\n"
     ]
    }
   ],
   "source": [
    "# 3. What is the return value of the search() method?\n",
    "\n",
    "# Ans\n",
    "\n",
    "#The search() method returns Match objects.\n",
    "pos = -1\n",
    "\n",
    "def search(list, n):\n",
    "    i = 0\n",
    "\n",
    "    while i< len(list):\n",
    "        if list[i] == n:\n",
    "            globals()['pos'] = i\n",
    "            return True\n",
    "        i = i + 1;\n",
    "\n",
    "    return False\n",
    "\n",
    "list = [5,8,4,6,9,2]\n",
    "n = 9\n",
    "\n",
    "if search(list, n):\n",
    "    print(\"Found at index \",pos) \n",
    "else:\n",
    "    print(\"Not Found\")"
   ]
  },
  {
   "cell_type": "code",
   "execution_count": 4,
   "id": "301ea87c",
   "metadata": {},
   "outputs": [],
   "source": [
    "# 4. From a Match item, how do you get the actual strings that match the pattern?\n",
    "\n",
    "#Ans\n",
    "#  It returns a match object if there is a match else returns none.\n"
   ]
  },
  {
   "cell_type": "code",
   "execution_count": 5,
   "id": "28817f97",
   "metadata": {},
   "outputs": [
    {
     "name": "stdout",
     "output_type": "stream",
     "text": [
      "match found\n"
     ]
    }
   ],
   "source": [
    "import re\n",
    "if re.search(\"string\",\"this is my string\"):\n",
    "    print(\"match found\")"
   ]
  },
  {
   "cell_type": "code",
   "execution_count": 6,
   "id": "0572ad13",
   "metadata": {},
   "outputs": [],
   "source": [
    "#5. In the regex which created from the r'(\\d\\d\\d)-(\\d\\d\\d-\\d\\d\\d\\d)', \n",
    "# what does group zero cover? Group 2? Group 1?\n",
    "\n",
    "# Ans\n",
    "\n",
    "#Group 0 is the entire match,\n",
    "# group 1 covers the first set of parentheses, \n",
    "# and group 2 covers the second set of parentheses.\n",
    "\n",
    "# group 0 covers (\\d\\d\\d)-(\\d\\d\\d-\\d\\d\\d\\d)\n",
    "# group 1 covers (\\d\\d\\d)\n",
    "# group 2 covers (\\d\\d\\d-\\d\\d\\d\\d)"
   ]
  },
  {
   "cell_type": "code",
   "execution_count": 7,
   "id": "b8c6621e",
   "metadata": {},
   "outputs": [],
   "source": [
    "# 6. In standard expression syntax, parentheses and intervals have distinct meanings. \n",
    "# How can you tell a regex that you want it to fit real parentheses and periods?\n",
    "\n",
    "# Ans\n",
    "\n",
    "# Periods and parentheses can be escaped with a backslash: \\., \\(, and \\)."
   ]
  },
  {
   "cell_type": "code",
   "execution_count": 8,
   "id": "bb91943c",
   "metadata": {},
   "outputs": [],
   "source": [
    "#7. The findall() method returns a string list or a list of string tuples. \n",
    "# What causes it to return one of the two options?\n",
    "\n",
    "# Ans :\n",
    "\n",
    "# If the regex has no groups, a list of strings is returned. \n",
    "# If the regex has groups, a list of tuples of strings is returned."
   ]
  },
  {
   "cell_type": "code",
   "execution_count": 9,
   "id": "12e5cb4a",
   "metadata": {},
   "outputs": [],
   "source": [
    "# 8. In standard expressions, what does the | character mean?\n",
    "\n",
    "#Ans :\n",
    "\n",
    "#The | character signifies matching \"either, or\" between two groups.\n"
   ]
  },
  {
   "cell_type": "code",
   "execution_count": 10,
   "id": "e65a24d9",
   "metadata": {},
   "outputs": [],
   "source": [
    "# 9. In regular expressions, what does the character stand for?\n",
    "\n",
    "# Ans :\n",
    "\n",
    "# Zero or one occerences."
   ]
  },
  {
   "cell_type": "code",
   "execution_count": 11,
   "id": "8b2abd47",
   "metadata": {},
   "outputs": [],
   "source": [
    "# 10. In regular expressions, what is the difference between the + and * characters?\n",
    "\n",
    "# Ans:\n",
    "\n",
    "#  ' + ' refers one or more occurences\n",
    "#  ' * ' refers zero or more occurences.\n"
   ]
  },
  {
   "cell_type": "code",
   "execution_count": 12,
   "id": "7f5dec08",
   "metadata": {},
   "outputs": [],
   "source": [
    "# 11. What is the difference between {4} and {4,5} in regular expression?\n",
    "\n",
    "# Ans:\n",
    "# {4}  preceding character is to be repeated 4 times.\n",
    "# {4,5}  preceding character is repeated minimum 4 times and maximum 5 times."
   ]
  },
  {
   "cell_type": "code",
   "execution_count": 13,
   "id": "61f1f00d",
   "metadata": {},
   "outputs": [],
   "source": [
    "# 12. What do you mean by the \\d, \\w, and \\s shorthand character classes signify in regular expressions?\n",
    "\n",
    "# Ans\n",
    "\n",
    "# \\d returns a match where string contains digit(number from 0-9)\n",
    "# \\w returns a match where string contains any word character\n",
    "# (character from a to Z, digit from 0 to 9 and underscore character)\n",
    "# \\s returns a match where string contains a whitespace character.\n"
   ]
  },
  {
   "cell_type": "code",
   "execution_count": 14,
   "id": "b2fd477d",
   "metadata": {},
   "outputs": [],
   "source": [
    "# 13. What do means by \\D, \\W, and \\S shorthand character classes signify in regular expressions?\n",
    "\n",
    "# Ans\n",
    "\n",
    "# \\D: the \"non-digit character\" class represents the regex range [^0-9]\n",
    "# \\W: the \"non-word character\" class represents the regex range [^A-Za-z0-9_]\n",
    "# \\S: the “non-whitespace character” class represents the regex range [^ \\t\\r\\n\\f\\v]\n"
   ]
  },
  {
   "cell_type": "code",
   "execution_count": 15,
   "id": "40960deb",
   "metadata": {},
   "outputs": [
    {
     "name": "stdout",
     "output_type": "stream",
     "text": [
      "['hello']\n"
     ]
    }
   ],
   "source": [
    "# 14. What is the difference between .*? and .* ?\n",
    "\n",
    "# Ans\n",
    "\n",
    "import re\n",
    "\n",
    "txt = \"hello sudh\"\n",
    "\n",
    "#Search for a sequence that starts with \"he\", followed by 0 or more  (any) characters, and an \"o\":\n",
    "\n",
    "x = re.findall(\"he.*o\", txt)\n",
    "\n",
    "print(x)"
   ]
  },
  {
   "cell_type": "code",
   "execution_count": 16,
   "id": "18df9092",
   "metadata": {},
   "outputs": [
    {
     "name": "stdout",
     "output_type": "stream",
     "text": [
      "[]\n"
     ]
    }
   ],
   "source": [
    "\n",
    "import re\n",
    "\n",
    "txt = \"hello sudh\"\n",
    "\n",
    "#Search for a sequence that starts with \"he\", followed by 0 or 1  (any) character, and an \"o\":\n",
    "\n",
    "x = re.findall(\"he*?o\", txt)\n",
    "\n",
    "print(x)\n",
    "\n",
    "#This time we got no match, because there were not zero, not one, but two characters between \"he\" and the \"o\""
   ]
  },
  {
   "cell_type": "code",
   "execution_count": 17,
   "id": "c06aa92b",
   "metadata": {},
   "outputs": [],
   "source": [
    "# 15. What is the syntax for matching both numbers and lowercase letters with a character class?\n",
    "\n",
    "# Ans\n",
    "\n",
    "# [a-z0-9] is the syntax for matching both numbers and lowercase letters with a character class"
   ]
  },
  {
   "cell_type": "code",
   "execution_count": 18,
   "id": "1b6f9b9a",
   "metadata": {},
   "outputs": [
    {
     "name": "stdout",
     "output_type": "stream",
     "text": [
      "<re.Match object; span=(0, 4), match='SuDh'>\n"
     ]
    }
   ],
   "source": [
    "# 16. What is the procedure for making a normal expression in regax case insensitive?\n",
    "\n",
    "import re\n",
    "print (re.search('sudh', 'SuDh', flags=re.IGNORECASE))\n",
    "\n",
    "# by using re.IGNORECASE "
   ]
  },
  {
   "cell_type": "code",
   "execution_count": 19,
   "id": "f9099afd",
   "metadata": {},
   "outputs": [],
   "source": [
    "# 17. What does the . character normally match?\n",
    "# What does it match if re.DOTALL is passed as 2nd argument in re.compile()?\n",
    "\n",
    "# Ans\n",
    "\n",
    "# It normally matches the target string with any single character from the list\n",
    "# If re. DOTALL is passed as the second argument to re. compile(), then the dot will also match newline characters."
   ]
  },
  {
   "cell_type": "code",
   "execution_count": 20,
   "id": "55a872ab",
   "metadata": {},
   "outputs": [
    {
     "data": {
      "text/plain": [
       "'X drummers, X pipers, five rings, X hen'"
      ]
     },
     "execution_count": 20,
     "metadata": {},
     "output_type": "execute_result"
    }
   ],
   "source": [
    "# 18. If numReg = re.compile(r'\\d+'), what will numRegex.sub('X', '11 drummers, 10 pipers, five rings, 4 hen') return?\n",
    "\n",
    "#Ans\n",
    "import re\n",
    "\n",
    "numReg = re.compile(r'\\d+')\n",
    "numReg.sub('X', '11 drummers, 10 pipers, five rings, 4 hen') #correct "
   ]
  },
  {
   "cell_type": "code",
   "execution_count": 21,
   "id": "73c1288f",
   "metadata": {},
   "outputs": [],
   "source": [
    "# numRegex.sub('X', '11 drummers, 10 pipers, five rings, 4 hen') # produce error variable name wrong"
   ]
  },
  {
   "cell_type": "code",
   "execution_count": 22,
   "id": "786c9b9f",
   "metadata": {},
   "outputs": [],
   "source": [
    "# 19. What does passing re.VERBOSE as the 2nd argument to re.compile() allow to do?\n",
    "\n",
    "# The re.VERBOSE argument allows you to add whitespace and comments to the string passed to re.compile()"
   ]
  },
  {
   "cell_type": "code",
   "execution_count": null,
   "id": "fd6f367c",
   "metadata": {},
   "outputs": [],
   "source": [
    "# 20. How would you write a regex that match a number with comma for every three digits? \n",
    "It must match the given following:\n",
    "'42'\n",
    "'1,234'\n",
    "'6,368,745'\n",
    "# but not the following:\n",
    "'12,34,56' (which has only two digits between the commas)\n",
    "'1234' (which lacks commas)"
   ]
  },
  {
   "cell_type": "code",
   "execution_count": 23,
   "id": "96918272",
   "metadata": {},
   "outputs": [
    {
     "name": "stdout",
     "output_type": "stream",
     "text": [
      "[',234', ',368', ',745']\n"
     ]
    }
   ],
   "source": [
    "# Ans\n",
    "import re\n",
    "#  regex that match a number with comma for every three digits\n",
    "text= '''It must match the given following:\n",
    "'42'\n",
    "'1,234'\n",
    "'6,368,745'\n",
    "but not the following:\n",
    "'12,34,56' (which has only two digits between the commas)\n",
    "'1234' (which lacks commas)'''\n",
    "\n",
    "print(re.findall('(,\\d\\d\\d)',text))"
   ]
  },
  {
   "cell_type": "code",
   "execution_count": null,
   "id": "a957174d",
   "metadata": {},
   "outputs": [],
   "source": [
    "21. How would you write a regex that matches the full name of someone whose last name is Watanabe? \n",
    "You can assume that the first name that comes before it will always be one word that begins with a capital letter. \n",
    "The regex must match the following:\n",
    "'Haruto Watanabe'\n",
    "'Alice Watanabe'\n",
    "'RoboCop Watanabe'\n",
    "but not the following:\n",
    "'haruto Watanabe' (where the first name is not capitalized)\n",
    "'Mr. Watanabe' (where the preceding word has a nonletter character)\n",
    "'Watanabe' (which has no first name)\n",
    "'Haruto watanabe' (where Watanabe is not capitalized)\n"
   ]
  },
  {
   "cell_type": "code",
   "execution_count": 24,
   "id": "df8379d6",
   "metadata": {},
   "outputs": [
    {
     "data": {
      "text/plain": [
       "['Haruto Watanabe', 'Alice Watanabe', 'Robocop Watanabe']"
      ]
     },
     "execution_count": 24,
     "metadata": {},
     "output_type": "execute_result"
    }
   ],
   "source": [
    "# Ans\n",
    "\n",
    "import re\n",
    "text1= \"\"\"The regex must match the following:\n",
    "'Haruto Watanabe'\n",
    "'Alice Watanabe'\n",
    "'Robocop Watanabe'\n",
    "but not the following:\n",
    "'haruto Watanabe' (where the first name is not capitalized)\n",
    "'Mr. Watanabe' (where the preceding word has a nonletter character)\n",
    "'Watanabe' (which has no first name)\n",
    "'Haruto watanabe' (where watanabe is not capitalized)\n",
    " \n",
    "\"\"\"\n",
    "#pattern='\\w+[\\s:upper]Watanabe'\n",
    "pattern='[A-Z][a-z]+\\sWatanabe'\n",
    "matches = re.findall(pattern, text1)\n",
    "\n",
    "matches\n"
   ]
  },
  {
   "cell_type": "code",
   "execution_count": null,
   "id": "35840734",
   "metadata": {},
   "outputs": [],
   "source": [
    "22. How would you write a regex that matches a sentence where the first word is either Alice, Bob, or Carol; \n",
    "the second word is either eats, pets, or throws; the third word is apples, cats, or baseballs; \n",
    "and the sentence ends with a period? This regex should be case-insensitive. It must match the following:\n",
    "'Alice eats apples.'\n",
    "'Bob pets cats.'\n",
    "'Carol throws baseballs.'\n",
    "'Alice throws Apples.'\n",
    "'BOB EATS CATS.'\n",
    "but not the following:\n",
    "'RoboCop eats apples.'\n",
    "'ALICE THROWS FOOTBALLS.'\n",
    "'Carol eats 7 cats.'"
   ]
  },
  {
   "cell_type": "code",
   "execution_count": 25,
   "id": "0dafc153",
   "metadata": {},
   "outputs": [
    {
     "data": {
      "text/plain": [
       "[('Alice', 'eats', 'apples'),\n",
       " ('Bob', 'pets', 'cats'),\n",
       " ('Carol', 'throws', 'baseballs')]"
      ]
     },
     "execution_count": 25,
     "metadata": {},
     "output_type": "execute_result"
    }
   ],
   "source": [
    "# Ans\n",
    "import re\n",
    "\n",
    "text2=\"\"\"It must match the following:\n",
    "'Alice eats apples.'\n",
    "'Bob pets cats.'\n",
    "'Carol throws baseballs.'\n",
    "'Alice throws Apples.'\n",
    "'BOB EATS CATS.'\n",
    "but not the following:\n",
    "'RoboCop eats apples.'\n",
    "'ALICE THROWS FOOTBALLS.'\n",
    "'Carol eats 7 cats.'\n",
    "\"\"\"\n",
    "\n",
    "pattern='(Alice|Bob|Carol)\\s+(eats|pets|throws)\\s+(apples|cats|baseballs)'\n",
    "\n",
    "matches = re.findall(pattern, text2)\n",
    "\n",
    "matches\n"
   ]
  },
  {
   "cell_type": "code",
   "execution_count": null,
   "id": "a81dfc5f",
   "metadata": {},
   "outputs": [],
   "source": []
  }
 ],
 "metadata": {
  "kernelspec": {
   "display_name": "Python 3 (ipykernel)",
   "language": "python",
   "name": "python3"
  },
  "language_info": {
   "codemirror_mode": {
    "name": "ipython",
    "version": 3
   },
   "file_extension": ".py",
   "mimetype": "text/x-python",
   "name": "python",
   "nbconvert_exporter": "python",
   "pygments_lexer": "ipython3",
   "version": "3.9.7"
  }
 },
 "nbformat": 4,
 "nbformat_minor": 5
}
