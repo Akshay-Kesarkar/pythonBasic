{
 "cells": [
  {
   "cell_type": "code",
   "execution_count": 8,
   "id": "6a6f0918",
   "metadata": {},
   "outputs": [
    {
     "name": "stdout",
     "output_type": "stream",
     "text": [
      "fun multiply Two variables:a,b  20\n",
      "fun add two variables:b,c  12\n",
      "This is my code to call fun bacon() from module spam\n",
      "None\n"
     ]
    }
   ],
   "source": [
    "#1. Why are functions advantageous to have in your programs?\n",
    "\n",
    "#Ans\n",
    "#Increase code reusibility-we can call function or multiple funtion from module\n",
    "#Reduce amount of code-As our program grows larger and larger, functions make it more organized and manageable\n",
    "#Increase modularity\n",
    "\n",
    "from spam import *\n",
    "t1=test1(4,5)\n",
    "print(\"fun multiply Two variables:a,b \", t1)\n",
    "t=test(5,7)\n",
    "print(\"fun add two variables:b,c \", t)\n",
    "bac=bacon()\n",
    "print(bac)"
   ]
  },
  {
   "cell_type": "code",
   "execution_count": 10,
   "id": "988e6abc",
   "metadata": {},
   "outputs": [
    {
     "name": "stdout",
     "output_type": "stream",
     "text": [
      "function called\n"
     ]
    }
   ],
   "source": [
    "#2. When does the code in a function run: when it's specified or when it's called?\n",
    "\n",
    "#Ans\n",
    "#A function is a block of code which only runs when it is called.\n",
    "def my_function():\n",
    "    print(\"function called\")\n",
    "my_function()"
   ]
  },
  {
   "cell_type": "code",
   "execution_count": 21,
   "id": "2f645aec",
   "metadata": {},
   "outputs": [
    {
     "name": "stdout",
     "output_type": "stream",
     "text": [
      "function called 10\n"
     ]
    }
   ],
   "source": [
    "#3. What statement creates a function?\n",
    "\n",
    "#Ans\n",
    "# 1 Keyword *def that marks the start of the function header.\n",
    "# 2 A function *name to uniquely *identify the function.\n",
    "    #Function naming follows the same rules of writing identifiers in Python.\n",
    "# 3 *Parameters (arguments) through which we pass values to a function. They are optional.\n",
    "# 4 A colon (*:) to mark the end of the function header.\n",
    "# 5 Optional documentation string (*docstring) to describe what the function does.\n",
    "# 6 One or more valid python statements that make up the *function body. \n",
    "    #Statements must have the same *indentation level (usually 4 spaces).\n",
    "# 7 An optional return statement to *return a value from the function.\n",
    "def my_function(a):\n",
    "    \"\"\"This is docstring explain function\"\"\"\n",
    "    print(\"function called\",a)\n",
    "my_function(10)"
   ]
  },
  {
   "cell_type": "code",
   "execution_count": 19,
   "id": "44b1af28",
   "metadata": {},
   "outputs": [
    {
     "data": {
      "text/plain": [
       "30"
      ]
     },
     "execution_count": 19,
     "metadata": {},
     "output_type": "execute_result"
    }
   ],
   "source": [
    "# 4. What is the difference between a function and a function call?\n",
    "\n",
    "#Ans\n",
    "#Function: Function is set of codes which produce some result. Function is useless unless it is invoked or called.\n",
    "#Function Call: Function call is used to invoke or execute set of codes present inside the function.\n",
    "def sum(a,b):\n",
    "    \"sum a, b\"\n",
    "    return a+b #function\n",
    "\n",
    "sum(10,20) # funtion Call"
   ]
  },
  {
   "cell_type": "code",
   "execution_count": 4,
   "id": "e9ac558e",
   "metadata": {},
   "outputs": [
    {
     "data": {
      "text/plain": [
       "300"
      ]
     },
     "execution_count": 4,
     "metadata": {},
     "output_type": "execute_result"
    }
   ],
   "source": [
    "# 5. How many global scopes are there in a Python program? How many local scopes?\n",
    "\n",
    "#Ans\n",
    "# There is 1 global scope and 1 local scope in a python program\n",
    "def myfunc():\n",
    "  x = 300 # local scope\n",
    "  return x\n",
    "\n",
    "myfunc()"
   ]
  },
  {
   "cell_type": "code",
   "execution_count": 5,
   "id": "e62b5e5a",
   "metadata": {},
   "outputs": [
    {
     "data": {
      "text/plain": [
       "300"
      ]
     },
     "execution_count": 5,
     "metadata": {},
     "output_type": "execute_result"
    }
   ],
   "source": [
    "x = 300 #global scope\n",
    "def myfunc():\n",
    "    return x\n",
    "\n",
    "myfunc()"
   ]
  },
  {
   "cell_type": "code",
   "execution_count": 8,
   "id": "1ba25b26",
   "metadata": {},
   "outputs": [
    {
     "name": "stdout",
     "output_type": "stream",
     "text": [
      "Output of adding(16, 25) function is 41\n"
     ]
    }
   ],
   "source": [
    "#7. What is the concept of a return value? Is it possible to have a return value in an expression?\n",
    "\n",
    "#Ans\n",
    "# return value that you can use inside a function or method to send the function's result back to the caller\n",
    "#A return is a value that a function returns to the calling script or function when it completes its task. \n",
    "#A return value can be any one of the four variable types: handle, integer, object, or string\n",
    "\n",
    "#It is *possible to have return value in an expression\n",
    "def adding(x, y):  \n",
    "    return x+y ## returning expression\n",
    "result = adding(16, 25)  \n",
    "print(f'Output of adding(16, 25) function is {result}')  "
   ]
  },
  {
   "cell_type": "code",
   "execution_count": 10,
   "id": "8804f157",
   "metadata": {},
   "outputs": [
    {
     "data": {
      "text/plain": [
       "NoneType"
      ]
     },
     "execution_count": 10,
     "metadata": {},
     "output_type": "execute_result"
    }
   ],
   "source": [
    "# 8. If a function does not have a return statement, what is the return value of a call to that function?\n",
    "\n",
    "#Ans\n",
    "#If a function does not have a return statement that means the function is not returning any values.\n",
    "#In this case after function is executed completly it will *return a NoneType.\n",
    "def no_return():\n",
    "    a=10\n",
    "    b=20\n",
    "type(no_return())"
   ]
  },
  {
   "cell_type": "code",
   "execution_count": 13,
   "id": "fa1f497f",
   "metadata": {},
   "outputs": [
    {
     "name": "stdout",
     "output_type": "stream",
     "text": [
      "0\n",
      "10\n"
     ]
    }
   ],
   "source": [
    "# 9. How do you make a function variable refer to the global variable?\n",
    "\n",
    "#Ans\n",
    "#If you want to refer to a global variable in a function,\n",
    "#you can use the global keyword to declare which variables are global\n",
    "soft = 0\n",
    "def fun1():\n",
    "    global soft\n",
    "    soft = 10\n",
    "print(soft)\n",
    "\n",
    "fun1()\n",
    "print(soft)"
   ]
  },
  {
   "cell_type": "code",
   "execution_count": 19,
   "id": "511befaf",
   "metadata": {},
   "outputs": [
    {
     "name": "stdout",
     "output_type": "stream",
     "text": [
      "<class 'NoneType'>\n"
     ]
    },
    {
     "data": {
      "text/plain": [
       "NoneType"
      ]
     },
     "execution_count": 19,
     "metadata": {},
     "output_type": "execute_result"
    }
   ],
   "source": [
    "#10. What is the data type of None?\n",
    "\n",
    "#Ans\n",
    "u=None\n",
    "print(type(u))\n",
    "type(None)\n",
    "# data type is None Type\n",
    "# None data type is a null variable or null objec"
   ]
  },
  {
   "cell_type": "code",
   "execution_count": null,
   "id": "87eaf825",
   "metadata": {},
   "outputs": [],
   "source": [
    "# 11. What does the sentence import areallyourpetsnamederic do?\n",
    "\n",
    "#Ans\n",
    "# The statement \"import areallyourpetsnamederic\" will import the module or package areallyourpetsnamederic."
   ]
  },
  {
   "cell_type": "code",
   "execution_count": 20,
   "id": "5e298674",
   "metadata": {},
   "outputs": [
    {
     "name": "stdout",
     "output_type": "stream",
     "text": [
      "This is my code to call fun bacon() from module spam\n"
     ]
    }
   ],
   "source": [
    "# 12. If you had a bacon() feature in a spam module, what would you call it after importing spam?\n",
    "\n",
    "#Ans\n",
    "import spam\n",
    "spam.bacon()"
   ]
  },
  {
   "cell_type": "code",
   "execution_count": 29,
   "id": "8f4024b0",
   "metadata": {},
   "outputs": [
    {
     "name": "stdout",
     "output_type": "stream",
     "text": [
      "Exception handling\n"
     ]
    }
   ],
   "source": [
    "# 13. What can you do to save a programme from crashing if it encounters an error?\n",
    "\n",
    "#Ans\n",
    "# To save the program from crashing over a runtime error we can use the try and except statement.\n",
    "# It will save from only the runtime error not the compile time error.\n",
    "try:\n",
    "    for i in self:\n",
    "        print(i) #name 'self' is not defined error\n",
    "\n",
    "except:  # save the program from crashing\n",
    "    print(\"Exception handling\") \n"
   ]
  },
  {
   "cell_type": "code",
   "execution_count": 36,
   "id": "8c5753d7",
   "metadata": {},
   "outputs": [
    {
     "name": "stdout",
     "output_type": "stream",
     "text": [
      "a\n",
      "you must enter int.\n",
      "1\n"
     ]
    },
    {
     "data": {
      "text/plain": [
       "1"
      ]
     },
     "execution_count": 36,
     "metadata": {},
     "output_type": "execute_result"
    }
   ],
   "source": [
    "# 14. What is the purpose of the try clause? What is the purpose of the except clause?\n",
    "\n",
    "#Ans\n",
    "#The try block is used to check some code for errors\n",
    "#The code inside the except block will execute whenever the program encounters some error in the preceding try block\n",
    "#Together Try and except block is used to save programe from crashing when error is encountered\n",
    "\n",
    "def askint():\n",
    "    while True:\n",
    "        try:\n",
    "            value = int(input())\n",
    "        except ValueError:\n",
    "            print(\"you must enter int.\")\n",
    "            continue\n",
    "        else:\n",
    "            break\n",
    "    return  value\n",
    "askint()\n"
   ]
  }
 ],
 "metadata": {
  "kernelspec": {
   "display_name": "Python 3 (ipykernel)",
   "language": "python",
   "name": "python3"
  },
  "language_info": {
   "codemirror_mode": {
    "name": "ipython",
    "version": 3
   },
   "file_extension": ".py",
   "mimetype": "text/x-python",
   "name": "python",
   "nbconvert_exporter": "python",
   "pygments_lexer": "ipython3",
   "version": "3.9.7"
  }
 },
 "nbformat": 4,
 "nbformat_minor": 5
}
