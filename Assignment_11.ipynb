{
 "cells": [
  {
   "cell_type": "code",
   "execution_count": 6,
   "id": "2169f9de",
   "metadata": {},
   "outputs": [
    {
     "name": "stdout",
     "output_type": "stream",
     "text": [
      "-1\n"
     ]
    },
    {
     "ename": "AssertionError",
     "evalue": "Only positive numbers are allowed",
     "output_type": "error",
     "traceback": [
      "\u001b[1;31m---------------------------------------------------------------------------\u001b[0m",
      "\u001b[1;31mAssertionError\u001b[0m                            Traceback (most recent call last)",
      "Input \u001b[1;32mIn [6]\u001b[0m, in \u001b[0;36m<cell line: 4>\u001b[1;34m()\u001b[0m\n\u001b[0;32m      1\u001b[0m \u001b[38;5;66;03m# 1. Create an assert statement that throws an AssertionError if the variable spam is a negative integer.\u001b[39;00m\n\u001b[0;32m      3\u001b[0m spam \u001b[38;5;241m=\u001b[39m \u001b[38;5;28mint\u001b[39m(\u001b[38;5;28minput\u001b[39m())\n\u001b[1;32m----> 4\u001b[0m \u001b[38;5;28;01massert\u001b[39;00m spam \u001b[38;5;241m>\u001b[39m \u001b[38;5;241m0\u001b[39m, \u001b[38;5;124m'\u001b[39m\u001b[38;5;124mOnly positive numbers are allowed\u001b[39m\u001b[38;5;124m'\u001b[39m\n\u001b[0;32m      5\u001b[0m \u001b[38;5;28mprint\u001b[39m(\u001b[38;5;124m'\u001b[39m\u001b[38;5;124mspam is a positive number.\u001b[39m\u001b[38;5;124m'\u001b[39m)\n",
      "\u001b[1;31mAssertionError\u001b[0m: Only positive numbers are allowed"
     ]
    }
   ],
   "source": [
    "# 1. Create an assert statement that throws an AssertionError if the variable spam is a negative integer.\n",
    "\n",
    "spam = int(input())\n",
    "assert spam > 0, 'Only positive numbers are allowed'\n",
    "print('spam is a positive number.')"
   ]
  },
  {
   "cell_type": "code",
   "execution_count": 7,
   "id": "a85449bd",
   "metadata": {},
   "outputs": [
    {
     "name": "stdout",
     "output_type": "stream",
     "text": [
      "5\n",
      "5  is a positive number.\n"
     ]
    }
   ],
   "source": [
    "# Ans\n",
    "spam = int(input())\n",
    "assert spam > 0, 'Only positive numbers are allowed'\n",
    "print(spam ,' is a positive number.')"
   ]
  },
  {
   "cell_type": "code",
   "execution_count": 15,
   "id": "0a30b81c",
   "metadata": {},
   "outputs": [
    {
     "name": "stdout",
     "output_type": "stream",
     "text": [
      "hello\n",
      "hello\n"
     ]
    },
    {
     "ename": "AssertionError",
     "evalue": "diff string",
     "output_type": "error",
     "traceback": [
      "\u001b[1;31m---------------------------------------------------------------------------\u001b[0m",
      "\u001b[1;31mAssertionError\u001b[0m                            Traceback (most recent call last)",
      "Input \u001b[1;32mIn [15]\u001b[0m, in \u001b[0;36m<cell line: 11>\u001b[1;34m()\u001b[0m\n\u001b[0;32m      8\u001b[0m eggs \u001b[38;5;241m=\u001b[39m \u001b[38;5;28mstr\u001b[39m(\u001b[38;5;28minput\u001b[39m())\n\u001b[0;32m      9\u001b[0m bacon\u001b[38;5;241m=\u001b[39m \u001b[38;5;28mstr\u001b[39m(\u001b[38;5;28minput\u001b[39m())\n\u001b[1;32m---> 11\u001b[0m \u001b[38;5;28;01massert\u001b[39;00m eggs\u001b[38;5;241m.\u001b[39mlower\u001b[38;5;241m==\u001b[39mbacon\u001b[38;5;241m.\u001b[39mlower , \u001b[38;5;124m\"\u001b[39m\u001b[38;5;124mdiff string\u001b[39m\u001b[38;5;124m\"\u001b[39m\n\u001b[0;32m     12\u001b[0m \u001b[38;5;28mprint\u001b[39m(eggs , bacon)\n",
      "\u001b[1;31mAssertionError\u001b[0m: diff string"
     ]
    }
   ],
   "source": [
    "#2. Write an assert statement that triggers an AssertionError \n",
    "# if the variables eggs and bacon contain strings that are the same as each other, \n",
    "# even if their cases are different (that is, 'hello' and 'hello' are considered the same, \n",
    "# and 'goodbye' and 'GOODbye' are also considered the same).\n",
    "\n",
    "#Ans\n",
    "\n",
    "eggs = str(input())\n",
    "bacon= str(input())\n",
    "\n",
    "assert eggs.lower==bacon.lower , \"diff string\"\n",
    "print(eggs , bacon)"
   ]
  },
  {
   "cell_type": "code",
   "execution_count": 16,
   "id": "c0562574",
   "metadata": {},
   "outputs": [
    {
     "name": "stdout",
     "output_type": "stream",
     "text": [
      "goodbye\n",
      "GOODbye\n"
     ]
    },
    {
     "ename": "AssertionError",
     "evalue": "diff string",
     "output_type": "error",
     "traceback": [
      "\u001b[1;31m---------------------------------------------------------------------------\u001b[0m",
      "\u001b[1;31mAssertionError\u001b[0m                            Traceback (most recent call last)",
      "Input \u001b[1;32mIn [16]\u001b[0m, in \u001b[0;36m<cell line: 4>\u001b[1;34m()\u001b[0m\n\u001b[0;32m      1\u001b[0m eggs \u001b[38;5;241m=\u001b[39m \u001b[38;5;28mstr\u001b[39m(\u001b[38;5;28minput\u001b[39m())\n\u001b[0;32m      2\u001b[0m bacon\u001b[38;5;241m=\u001b[39m \u001b[38;5;28mstr\u001b[39m(\u001b[38;5;28minput\u001b[39m())\n\u001b[1;32m----> 4\u001b[0m \u001b[38;5;28;01massert\u001b[39;00m eggs\u001b[38;5;241m.\u001b[39mlower\u001b[38;5;241m==\u001b[39mbacon\u001b[38;5;241m.\u001b[39mlower , \u001b[38;5;124m\"\u001b[39m\u001b[38;5;124mdiff string\u001b[39m\u001b[38;5;124m\"\u001b[39m\n\u001b[0;32m      5\u001b[0m \u001b[38;5;28mprint\u001b[39m(eggs , bacon)\n",
      "\u001b[1;31mAssertionError\u001b[0m: diff string"
     ]
    }
   ],
   "source": [
    "eggs = str(input())\n",
    "bacon= str(input())\n",
    "\n",
    "assert eggs.lower==bacon.lower , \"diff string\"\n",
    "print(eggs , bacon)"
   ]
  },
  {
   "cell_type": "code",
   "execution_count": 37,
   "id": "b34c9680",
   "metadata": {},
   "outputs": [
    {
     "ename": "AssertionError",
     "evalue": "Always Shows Assertion Error",
     "output_type": "error",
     "traceback": [
      "\u001b[1;31m---------------------------------------------------------------------------\u001b[0m",
      "\u001b[1;31mAssertionError\u001b[0m                            Traceback (most recent call last)",
      "Input \u001b[1;32mIn [37]\u001b[0m, in \u001b[0;36m<cell line: 6>\u001b[1;34m()\u001b[0m\n\u001b[0;32m      4\u001b[0m \u001b[38;5;28;01mdef\u001b[39;00m \u001b[38;5;21massert_always\u001b[39m():\n\u001b[0;32m      5\u001b[0m     \u001b[38;5;28;01massert\u001b[39;00m \u001b[38;5;28;01mFalse\u001b[39;00m, \u001b[38;5;124m'\u001b[39m\u001b[38;5;124mAlways Shows Assertion Error\u001b[39m\u001b[38;5;124m'\u001b[39m\n\u001b[1;32m----> 6\u001b[0m \u001b[43massert_always\u001b[49m\u001b[43m(\u001b[49m\u001b[43m)\u001b[49m\n",
      "Input \u001b[1;32mIn [37]\u001b[0m, in \u001b[0;36massert_always\u001b[1;34m()\u001b[0m\n\u001b[0;32m      4\u001b[0m \u001b[38;5;28;01mdef\u001b[39;00m \u001b[38;5;21massert_always\u001b[39m():\n\u001b[1;32m----> 5\u001b[0m     \u001b[38;5;28;01massert\u001b[39;00m \u001b[38;5;28;01mFalse\u001b[39;00m, \u001b[38;5;124m'\u001b[39m\u001b[38;5;124mAlways Shows Assertion Error\u001b[39m\u001b[38;5;124m'\u001b[39m\n",
      "\u001b[1;31mAssertionError\u001b[0m: Always Shows Assertion Error"
     ]
    }
   ],
   "source": [
    "# 3. Create an assert statement that throws an AssertionError every time.\n",
    "\n",
    "# Ans\n",
    "def assert_always():\n",
    "    assert False, 'Always Shows Assertion Error'\n",
    "assert_always()"
   ]
  },
  {
   "cell_type": "code",
   "execution_count": 38,
   "id": "54962650",
   "metadata": {},
   "outputs": [],
   "source": [
    "#  4. What are the two lines that must be present in your software in order to call logging.debug()?\n",
    "\n",
    "#Ans\n",
    "import logging\n",
    "logging.basicConfig(filename ='application_log.txt',level=logging.DEBUG,format='%(asctime)s - %(levelname)s - %(message)s')"
   ]
  },
  {
   "cell_type": "code",
   "execution_count": 39,
   "id": "96eda1de",
   "metadata": {},
   "outputs": [],
   "source": [
    "# 5. What are the two lines that your program must have in order to have logging.debug() \n",
    "# send a logging message to a file named programLog.txt?"
   ]
  },
  {
   "cell_type": "code",
   "execution_count": 40,
   "id": "374bc151",
   "metadata": {},
   "outputs": [],
   "source": [
    "# Ans\n",
    "\n",
    "import logging\n",
    "logging.basicConfig(filename='application_log.txt',level=logging.DEBUG, format='%(asctime)s - %(levelname)s - %(message)s')\n",
    "logging.debug(\"Data Inserted Successfully\")\n",
    "logging.debug('Connection Closed Successfully')"
   ]
  },
  {
   "cell_type": "code",
   "execution_count": 41,
   "id": "9fd6d195",
   "metadata": {},
   "outputs": [
    {
     "name": "stdout",
     "output_type": "stream",
     "text": [
      "2022-08-19 11:23:20,518 - DEBUG - Data Inserted Successfully\n",
      "\n",
      "2022-08-19 11:23:20,721 - DEBUG - Connection Closed Successfully\n",
      "\n"
     ]
    }
   ],
   "source": [
    "file = open(\"./application_log.txt\",\"r\")\n",
    "for record in file.readlines():\n",
    "    print(record)"
   ]
  },
  {
   "cell_type": "code",
   "execution_count": 42,
   "id": "a45236a0",
   "metadata": {},
   "outputs": [],
   "source": [
    "# 6. What are the five levels of logging?\n",
    "\n",
    "#Ans\n",
    "# CRITICAL(50) \n",
    "# ERROR(40) \n",
    "# WARNING(30) \n",
    "# INFO(20) \n",
    "# DEBUG(10) \n",
    "# NOTSET(0)"
   ]
  },
  {
   "cell_type": "code",
   "execution_count": 43,
   "id": "669b77c6",
   "metadata": {},
   "outputs": [],
   "source": [
    "# 7. What line of code would you add to your software to disable all logging messages?\n",
    "\n",
    "#Ans\n",
    "logging.disable = True"
   ]
  },
  {
   "cell_type": "code",
   "execution_count": 44,
   "id": "2efa60f0",
   "metadata": {},
   "outputs": [],
   "source": [
    "# 8.Why is using logging messages better than using print() to display the same message?\n",
    "# Ans\n",
    "# Post devlopment of your code, you can disable logging messages without removing the logging function, \n",
    "# whereas you need to manually remove print() statements, which is tedious activity. \n",
    "# and also print is used when you want to display any particular message or \n",
    "# help whereas logging is used to record all events like error, info, debug messages, timestamps."
   ]
  },
  {
   "cell_type": "code",
   "execution_count": 45,
   "id": "009dfc85",
   "metadata": {},
   "outputs": [],
   "source": [
    "# 9.What are the differences between the Step Over, Step In, and Step Out buttons in the debugger?\n",
    "\n",
    "# Ans: The Differences between Step Over, Step In, Step Out buttons in debugger are:\n",
    "\n",
    "# Step in - Step In button will cause the debugger to execute the next line of code and then pause again.\n",
    "# Step Over - Step Over button will execute the next line of code, similar to the Step In button. However, \n",
    "    # if the next line of code is a function call, the Step Over button will “step over” the code in the function.\n",
    "    # The function’s code will be executed at full speed, and the debugger will pause as soon as the function call returns.\n",
    "# Step out - Step Out button will cause the debugger to execute lines of code at full speed \n",
    "        # until it returns from the current function."
   ]
  },
  {
   "cell_type": "code",
   "execution_count": 47,
   "id": "d1baa5ba",
   "metadata": {},
   "outputs": [],
   "source": [
    "# 10.After you click Continue, when will the debugger stop ?\n",
    "# Ans\n",
    "\n",
    "# This will cause the program to continue running normally, \n",
    "# without pausing for debugging untill it terminates or reaches a breakpoint.\n",
    "\n"
   ]
  },
  {
   "cell_type": "code",
   "execution_count": 46,
   "id": "f0cd9a8e",
   "metadata": {},
   "outputs": [],
   "source": [
    "# 11. What is the concept of a breakpoint?\n",
    "\n",
    "#Ans\n",
    "# Breakpoint is a setting on a line of code that causes the debugger to pause when the program execution reaches the line"
   ]
  },
  {
   "cell_type": "code",
   "execution_count": null,
   "id": "5e6a6b0f",
   "metadata": {},
   "outputs": [],
   "source": []
  }
 ],
 "metadata": {
  "kernelspec": {
   "display_name": "Python 3 (ipykernel)",
   "language": "python",
   "name": "python3"
  },
  "language_info": {
   "codemirror_mode": {
    "name": "ipython",
    "version": 3
   },
   "file_extension": ".py",
   "mimetype": "text/x-python",
   "name": "python",
   "nbconvert_exporter": "python",
   "pygments_lexer": "ipython3",
   "version": "3.9.12"
  }
 },
 "nbformat": 4,
 "nbformat_minor": 5
}
