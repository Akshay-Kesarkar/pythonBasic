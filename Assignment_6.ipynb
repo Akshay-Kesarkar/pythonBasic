{
 "cells": [
  {
   "cell_type": "code",
   "execution_count": 1,
   "id": "1af0432d",
   "metadata": {},
   "outputs": [],
   "source": [
    "# 1. What are escape characters, and how do you use them?\n",
    "\n",
    "# Ans\n",
    "#In Python strings, the backslash() is a special character, also called the \"escape\" character. \n",
    "#It is used in representing certain whitespace characters: \"\\t\" is a tab, \"\\n\" is a newline, and \"\\r\" is a carriage return\n",
    "\n",
    "#prefixing a special character with() turns it into an ordinary character. \n",
    "#This is called \"escaping\". For example, \" \\' \" is the single quote character. \n",
    "#'It\\'s Sunday' therefore is a valid string and equivalent to \"It's Sunday\"."
   ]
  },
  {
   "cell_type": "code",
   "execution_count": 2,
   "id": "8bbc1582",
   "metadata": {},
   "outputs": [],
   "source": [
    "# 2. What do the escape characters n and t stand for?\n",
    "\n",
    "# Ans\n",
    "#\"\\t\" is for tab space, \"\\n\" is for a newline"
   ]
  },
  {
   "cell_type": "code",
   "execution_count": 3,
   "id": "59ae6eb8",
   "metadata": {},
   "outputs": [
    {
     "name": "stdout",
     "output_type": "stream",
     "text": [
      "it's a back slash \\ in a sentence\n",
      "it's a back slash \\ in a sentence\n",
      "it's two back slash \\\\ in a sentence\n"
     ]
    }
   ],
   "source": [
    "# 3. What is the way to include backslash characters in a string?\n",
    "\n",
    "# Ans\n",
    "# You need to append backslash with another backslash to include the backslash in your strings\n",
    "print(\"it's a back slash \\ in a sentence\")\n",
    "print(\"it's a back slash \\\\ in a sentence\")\n",
    "print(\"it's two back slash \\\\\\ in a sentence\")"
   ]
  },
  {
   "cell_type": "code",
   "execution_count": 4,
   "id": "c7299f4f",
   "metadata": {},
   "outputs": [
    {
     "name": "stdout",
     "output_type": "stream",
     "text": [
      "Howl's Moving Castle\n"
     ]
    }
   ],
   "source": [
    "# 4. The string \"Howl's Moving Castle\" is a correct value. \n",
    "# Why isn't the single quote character in the word Howl's not escaped a problem?\n",
    "\n",
    "#Ans\n",
    "# Because of Howl's single quote ends after l and show Syntax error.So for that \\' is solution to avoid syntax error\n",
    "print('Howl\\'s Moving Castle')"
   ]
  },
  {
   "cell_type": "code",
   "execution_count": 5,
   "id": "8c768c91",
   "metadata": {},
   "outputs": [
    {
     "name": "stdout",
     "output_type": "stream",
     "text": [
      "This is my\n",
      "multi line\n",
      "string by using\n",
      "print in multiline\n"
     ]
    }
   ],
   "source": [
    "# 5. How do you write a string of newlines if you don't want to use the n character?\n",
    "\n",
    "#Ans #eg\n",
    "print(\"\"\"This is my\n",
    "multi line\n",
    "string by using\n",
    "print in multiline\"\"\")"
   ]
  },
  {
   "cell_type": "code",
   "execution_count": 6,
   "id": "77fce274",
   "metadata": {},
   "outputs": [
    {
     "data": {
      "text/plain": [
       "'This is my\\n multi line\\n string by\\n name multiline'"
      ]
     },
     "execution_count": 6,
     "metadata": {},
     "output_type": "execute_result"
    }
   ],
   "source": [
    "#eg 2\n",
    "multiline=\"\"\"This is my\n",
    " multi line\n",
    " string by\n",
    " name multiline\"\"\"\n",
    "multiline"
   ]
  },
  {
   "cell_type": "code",
   "execution_count": 7,
   "id": "b7a8a93c",
   "metadata": {},
   "outputs": [],
   "source": [
    "# 6. What are the values of the given expressions?\n",
    "# 'Hello, world!'[1]\n",
    "# 'Hello, world!'[0:5]\n",
    "# 'Hello, world!'[:5]\n",
    "# 'Hello, world!'[3:]\n"
   ]
  },
  {
   "cell_type": "code",
   "execution_count": 8,
   "id": "ef81b29f",
   "metadata": {},
   "outputs": [
    {
     "data": {
      "text/plain": [
       "'e'"
      ]
     },
     "execution_count": 8,
     "metadata": {},
     "output_type": "execute_result"
    }
   ],
   "source": [
    "'Hello, world!'[1]"
   ]
  },
  {
   "cell_type": "code",
   "execution_count": 9,
   "id": "29ec1478",
   "metadata": {},
   "outputs": [
    {
     "data": {
      "text/plain": [
       "'Hello'"
      ]
     },
     "execution_count": 9,
     "metadata": {},
     "output_type": "execute_result"
    }
   ],
   "source": [
    "'Hello, world!'[0:5]"
   ]
  },
  {
   "cell_type": "code",
   "execution_count": 10,
   "id": "278ccac5",
   "metadata": {},
   "outputs": [
    {
     "data": {
      "text/plain": [
       "'Hello'"
      ]
     },
     "execution_count": 10,
     "metadata": {},
     "output_type": "execute_result"
    }
   ],
   "source": [
    "'Hello, world!'[:5]"
   ]
  },
  {
   "cell_type": "code",
   "execution_count": 11,
   "id": "4f47a86a",
   "metadata": {},
   "outputs": [
    {
     "data": {
      "text/plain": [
       "'lo, world!'"
      ]
     },
     "execution_count": 11,
     "metadata": {},
     "output_type": "execute_result"
    }
   ],
   "source": [
    "'Hello, world!'[3:]"
   ]
  },
  {
   "cell_type": "code",
   "execution_count": 12,
   "id": "fc217afa",
   "metadata": {},
   "outputs": [],
   "source": [
    "# 7. What are the values of the following expressions?\n",
    "# 'Hello'.upper()\n",
    "# 'Hello'.upper().isupper()\n",
    "# 'Hello'.upper().lower()\n"
   ]
  },
  {
   "cell_type": "code",
   "execution_count": 13,
   "id": "0b8f4505",
   "metadata": {},
   "outputs": [
    {
     "data": {
      "text/plain": [
       "'HELLO'"
      ]
     },
     "execution_count": 13,
     "metadata": {},
     "output_type": "execute_result"
    }
   ],
   "source": [
    "'Hello'.upper()"
   ]
  },
  {
   "cell_type": "code",
   "execution_count": 14,
   "id": "895ab9ee",
   "metadata": {},
   "outputs": [
    {
     "data": {
      "text/plain": [
       "True"
      ]
     },
     "execution_count": 14,
     "metadata": {},
     "output_type": "execute_result"
    }
   ],
   "source": [
    "'Hello'.upper().isupper()"
   ]
  },
  {
   "cell_type": "code",
   "execution_count": 15,
   "id": "ded58cfe",
   "metadata": {},
   "outputs": [
    {
     "data": {
      "text/plain": [
       "'hello'"
      ]
     },
     "execution_count": 15,
     "metadata": {},
     "output_type": "execute_result"
    }
   ],
   "source": [
    "'Hello'.upper().lower()"
   ]
  },
  {
   "cell_type": "code",
   "execution_count": 16,
   "id": "5c06fc04",
   "metadata": {},
   "outputs": [],
   "source": [
    "# 8. What are the values of the following expressions?\n",
    "# 'Remember, remember, the fifth of July.'.split()\n",
    "# '-'.join('There can only one.'.split())\n"
   ]
  },
  {
   "cell_type": "code",
   "execution_count": 17,
   "id": "b6faac62",
   "metadata": {},
   "outputs": [
    {
     "data": {
      "text/plain": [
       "['Remember,', 'remember,', 'the', 'fifth', 'of', 'July.']"
      ]
     },
     "execution_count": 17,
     "metadata": {},
     "output_type": "execute_result"
    }
   ],
   "source": [
    "'Remember, remember, the fifth of July.'.split()"
   ]
  },
  {
   "cell_type": "code",
   "execution_count": 18,
   "id": "da10500c",
   "metadata": {},
   "outputs": [
    {
     "data": {
      "text/plain": [
       "'There-can-only-one.'"
      ]
     },
     "execution_count": 18,
     "metadata": {},
     "output_type": "execute_result"
    }
   ],
   "source": [
    "'-'.join('There can only one.'.split())"
   ]
  },
  {
   "cell_type": "code",
   "execution_count": 19,
   "id": "2e62458e",
   "metadata": {},
   "outputs": [],
   "source": [
    "# 9. What are the methods for right-justifying, left-justifying, and centering a string?\n",
    "\n",
    "#Ans"
   ]
  },
  {
   "cell_type": "code",
   "execution_count": 20,
   "id": "596c3bf8",
   "metadata": {},
   "outputs": [
    {
     "data": {
      "text/plain": [
       "'Data _____'"
      ]
     },
     "execution_count": 20,
     "metadata": {},
     "output_type": "execute_result"
    }
   ],
   "source": [
    "# left justified\n",
    "str1 =\"Data \"\n",
    "str1.ljust(10,\"_\")"
   ]
  },
  {
   "cell_type": "code",
   "execution_count": 21,
   "id": "c7740472",
   "metadata": {},
   "outputs": [
    {
     "data": {
      "text/plain": [
       "'_____ Data'"
      ]
     },
     "execution_count": 21,
     "metadata": {},
     "output_type": "execute_result"
    }
   ],
   "source": [
    "# right justified\n",
    "str1 =\" Data\"\n",
    "str1.rjust(10,\"_\")"
   ]
  },
  {
   "cell_type": "code",
   "execution_count": 22,
   "id": "c455fcbd",
   "metadata": {},
   "outputs": [
    {
     "data": {
      "text/plain": [
       "'****** Center ******'"
      ]
     },
     "execution_count": 22,
     "metadata": {},
     "output_type": "execute_result"
    }
   ],
   "source": [
    "# center justified\n",
    "str1 =\" Center \"\n",
    "str1.center(20,'*')"
   ]
  },
  {
   "cell_type": "code",
   "execution_count": 23,
   "id": "da9fa9ba",
   "metadata": {},
   "outputs": [],
   "source": [
    "# 10. What is the best way to remove whitespace characters from the start or end?\n",
    "\n",
    "#Ans\n",
    "# lstrip() - removes white spaces from left of the string\n",
    "# rstrip() - removes whitespaces from right of the string\n"
   ]
  },
  {
   "cell_type": "code",
   "execution_count": 24,
   "id": "7e482409",
   "metadata": {},
   "outputs": [
    {
     "name": "stdout",
     "output_type": "stream",
     "text": [
      "             Hello         \n",
      "Hello         \n"
     ]
    }
   ],
   "source": [
    "a =\"             Hello         \"\n",
    "print(a)\n",
    "print(a.lstrip())"
   ]
  },
  {
   "cell_type": "code",
   "execution_count": null,
   "id": "a0b4a815",
   "metadata": {},
   "outputs": [],
   "source": [
    "b=\"             Hello         \""
   ]
  }
 ],
 "metadata": {
  "kernelspec": {
   "display_name": "Python 3 (ipykernel)",
   "language": "python",
   "name": "python3"
  },
  "language_info": {
   "codemirror_mode": {
    "name": "ipython",
    "version": 3
   },
   "file_extension": ".py",
   "mimetype": "text/x-python",
   "name": "python",
   "nbconvert_exporter": "python",
   "pygments_lexer": "ipython3",
   "version": "3.9.7"
  }
 },
 "nbformat": 4,
 "nbformat_minor": 5
}
